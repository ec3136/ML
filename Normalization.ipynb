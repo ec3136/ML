{
  "nbformat": 4,
  "nbformat_minor": 0,
  "metadata": {
    "colab": {
      "name": "MRI data",
      "provenance": [],
      "include_colab_link": true
    },
    "kernelspec": {
      "name": "python3",
      "display_name": "Python 3"
    }
  },
  "cells": [
    {
      "cell_type": "markdown",
      "metadata": {
        "id": "view-in-github",
        "colab_type": "text"
      },
      "source": [
        "<a href=\"https://colab.research.google.com/github/ec3136/ML/blob/master/Normalization.ipynb\" target=\"_parent\"><img src=\"https://colab.research.google.com/assets/colab-badge.svg\" alt=\"Open In Colab\"/></a>"
      ]
    },
    {
      "cell_type": "code",
      "metadata": {
        "id": "YbXpeHIWN5YO",
        "colab_type": "code",
        "colab": {}
      },
      "source": [
        "# load the data \n"
      ],
      "execution_count": 0,
      "outputs": []
    },
    {
      "cell_type": "code",
      "metadata": {
        "id": "a_93veQedriq",
        "colab_type": "code",
        "colab": {}
      },
      "source": [
        "\n",
        "\n",
        "\n",
        "n4itk = True\n",
        "n4itk_apply = False\n",
        "slices_by_mode, n = read_scans()  \n",
        "modes = ['flair', 't1', 't1c', 't2', 'gt']\n",
        "slices_by_slice = n\n",
        "normed_slices = norm_slices()\n",
        "\n",
        "# initialize to allow you to call the path from the OS\n",
        "def __init__(self,path):\n",
        "  self.path = path\n",
        "\n",
        " def gen_slices(self):\n",
        "\n",
        "        # initialize vectors to hold the slices\n",
        "        # slices 1 - by mode\n",
        "        # slices 2 - by slice\n",
        "        slices1 = np.zeros((5, 155, 240, 240))\n",
        "        slices2 = np.zeros((155, 5, 240, 240))\n",
        "\n",
        "        # classify the 5 modes \n",
        "        flair = glob(self.path + '/*Flair*/*.mha')\n",
        "        t2 = glob(self.path + '/*_T2*/*.mha')\n",
        "        gt = glob(self.path + '/*more*/*.mha')\n",
        "        t1s = glob(self.path + '/**/*T1*.mha')\n",
        "        t1_n4 = glob(self.path + '/*T1*/*_n.mha')\n",
        "\n",
        "        t1 = np.zeros(len(scan))\n",
        "        i = 0\n",
        "        for scan in t1s: \n",
        "          if scan not in t1_n4: \n",
        "            t1[i] = scan:\n",
        "            i = i+1 \n",
        "\n",
        "        scans = [flair[0], t1[0], t1[1], t2[0], gt[0]] \n",
        "\n",
        "        #normalize if t1 or t1s\n",
        "        if self.n4itk_apply:\n",
        "            for t1_path in t1:\n",
        "                self.n4itk_norm(t1_path)\n",
        "            scans = [flair[0], t1_n4[0], t1_n4[1], t2[0], gt[0]]\n",
        "        elif self.n4itk:\n",
        "            scans = [flair[0], t1_n4[0], t1_n4[1], t2[0], gt[0]]\n",
        "\n",
        "        # read each image and save to slices \n",
        "        # reshape slices as necessary \n",
        "        # iterate through each of the 5 modes and all of the slices \n",
        "        for curr_scan in xrange(5):\n",
        "            slices1[curr_scan] = io.imread(scans[curr_scan], plugin='simpleitk').astype(float)\n",
        "        for curr_mode in xrange(slices1.shape[0]): \n",
        "            for curr_slice in xrange(slices1e.shape[1]): \n",
        "                slices2[curr_slice][curr_mode] = slices1[curr_mode][curr_slice]\n",
        "        return slices1, slices2"
      ],
      "execution_count": 0,
      "outputs": []
    },
    {
      "cell_type": "code",
      "metadata": {
        "id": "We4iE-rFVEGx",
        "colab_type": "code",
        "colab": {}
      },
      "source": [
        "\n",
        "# initialize a vector to hold the normalized image slices \n",
        "normalized_slices = np.zeros((155,5,240,240))\n",
        "n = 155\n",
        "\n",
        "# clip the top and bottom 1% intensities, takes the slice as input - iterate \n",
        "# over all of the slices \n",
        "\n",
        "def clip(slice):\n",
        "  temp1, temp2 = np.percentile(slice,(1,99))\n",
        "  slice = np.clip(slice,temp1,temp2)\n",
        "  if np.std(slice)==0: \n",
        "    return slice\n",
        "  else: \n",
        "    norm_slice = (slice-np.mean(slice))/np.std(slice)\n",
        "    return norm_slice\n",
        "\n",
        "def norm_slices():\n",
        "  for curr_slice in xrange(n): \n",
        "    normalized_slices[curr_slice][-1] = slices2[curr_slice][-1]\n",
        "    for curr_mode in xrange(4): \n",
        "      normalized_slices[curr_slice][curr_mode] = clip(slices2[curr_slice][curr_mode])\n",
        "  return normalized_slices\n"
      ],
      "execution_count": 0,
      "outputs": []
    }
  ]
}