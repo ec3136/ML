{
  "nbformat": 4,
  "nbformat_minor": 0,
  "metadata": {
    "colab": {
      "name": "FINALCODE",
      "provenance": [],
      "collapsed_sections": [],
      "machine_shape": "hm",
      "include_colab_link": true
    },
    "kernelspec": {
      "name": "python3",
      "display_name": "Python 3"
    },
    "accelerator": "GPU"
  },
  "cells": [
    {
      "cell_type": "markdown",
      "metadata": {
        "id": "view-in-github",
        "colab_type": "text"
      },
      "source": [
        "<a href=\"https://colab.research.google.com/github/ec3136/ML/blob/master/FINALCODE.ipynb\" target=\"_parent\"><img src=\"https://colab.research.google.com/assets/colab-badge.svg\" alt=\"Open In Colab\"/></a>"
      ]
    },
    {
      "cell_type": "code",
      "metadata": {
        "id": "YbXpeHIWN5YO",
        "colab_type": "code",
        "outputId": "d3c36a2b-4994-402e-9854-81f0289dc30a",
        "colab": {
          "base_uri": "https://localhost:8080/",
          "height": 136
        }
      },
      "source": [
        "!apt-get install -y -qq software-properties-common python-software-properties module-init-tools\n",
        "!add-apt-repository -y ppa:alessandro-strada/ppa 2>&1 > /dev/null\n",
        "!apt-get update -qq 2>&1 > /dev/null\n",
        "!apt-get -y install -qq google-drive-ocamlfuse fuse\n",
        "from google.colab import auth\n",
        "auth.authenticate_user()\n",
        "from oauth2client.client import GoogleCredentials\n",
        "creds = GoogleCredentials.get_application_default() \n",
        "import getpass\n",
        "!google-drive-ocamlfuse -headless -id={creds.client_id} -secret={creds.client_secret} < /dev/null 2>&1 | grep URL\n",
        "vcode = getpass.getpass()\n",
        "!echo {vcode} | google-drive-ocamlfuse -headless -id={creds.client_id} -secret={creds.client_secret}"
      ],
      "execution_count": 0,
      "outputs": [
        {
          "output_type": "stream",
          "text": [
            "E: Package 'python-software-properties' has no installation candidate\n",
            "Selecting previously unselected package google-drive-ocamlfuse.\n",
            "(Reading database ... 145605 files and directories currently installed.)\n",
            "Preparing to unpack .../google-drive-ocamlfuse_0.7.14-0ubuntu1~ubuntu18.04.1_amd64.deb ...\n",
            "Unpacking google-drive-ocamlfuse (0.7.14-0ubuntu1~ubuntu18.04.1) ...\n",
            "Setting up google-drive-ocamlfuse (0.7.14-0ubuntu1~ubuntu18.04.1) ...\n",
            "Processing triggers for man-db (2.8.3-2ubuntu0.1) ...\n"
          ],
          "name": "stdout"
        }
      ]
    },
    {
      "cell_type": "code",
      "metadata": {
        "id": "fM0VGHyGLs-H",
        "colab_type": "code",
        "outputId": "9228ed76-878e-4576-9f9f-b5ba022ca758",
        "colab": {
          "base_uri": "https://localhost:8080/",
          "height": 122
        }
      },
      "source": [
        "from google.colab import drive\n",
        "drive.mount('/content/drive')"
      ],
      "execution_count": 1,
      "outputs": [
        {
          "output_type": "stream",
          "text": [
            "Go to this URL in a browser: https://accounts.google.com/o/oauth2/auth?client_id=947318989803-6bn6qk8qdgf4n4g3pfee6491hc0brc4i.apps.googleusercontent.com&redirect_uri=urn%3aietf%3awg%3aoauth%3a2.0%3aoob&response_type=code&scope=email%20https%3a%2f%2fwww.googleapis.com%2fauth%2fdocs.test%20https%3a%2f%2fwww.googleapis.com%2fauth%2fdrive%20https%3a%2f%2fwww.googleapis.com%2fauth%2fdrive.photos.readonly%20https%3a%2f%2fwww.googleapis.com%2fauth%2fpeopleapi.readonly\n",
            "\n",
            "Enter your authorization code:\n",
            "··········\n",
            "Mounted at /content/drive\n"
          ],
          "name": "stdout"
        }
      ]
    },
    {
      "cell_type": "code",
      "metadata": {
        "id": "xG66p6fcoaBo",
        "colab_type": "code",
        "outputId": "eb551684-1ce1-428e-d23f-35d02381828b",
        "colab": {
          "base_uri": "https://localhost:8080/",
          "height": 615
        }
      },
      "source": [
        "# Install TF 2.0 preview CPU version\n",
        "# Install tf 2.0 preview GPU version\n",
        "!pip install tf-nightly-gpu-2.0-preview"
      ],
      "execution_count": 0,
      "outputs": [
        {
          "output_type": "stream",
          "text": [
            "Requirement already satisfied: tf-nightly-gpu-2.0-preview in /usr/local/lib/python3.6/dist-packages (2.0.0.dev20191002)\n",
            "Requirement already satisfied: keras-applications>=1.0.8 in /usr/local/lib/python3.6/dist-packages (from tf-nightly-gpu-2.0-preview) (1.0.8)\n",
            "Requirement already satisfied: opt-einsum>=2.3.2 in /usr/local/lib/python3.6/dist-packages (from tf-nightly-gpu-2.0-preview) (3.1.0)\n",
            "Requirement already satisfied: absl-py>=0.7.0 in /usr/local/lib/python3.6/dist-packages (from tf-nightly-gpu-2.0-preview) (0.8.1)\n",
            "Requirement already satisfied: wrapt>=1.11.1 in /usr/local/lib/python3.6/dist-packages (from tf-nightly-gpu-2.0-preview) (1.11.2)\n",
            "Requirement already satisfied: grpcio>=1.8.6 in /usr/local/lib/python3.6/dist-packages (from tf-nightly-gpu-2.0-preview) (1.15.0)\n",
            "Requirement already satisfied: astor>=0.6.0 in /usr/local/lib/python3.6/dist-packages (from tf-nightly-gpu-2.0-preview) (0.8.0)\n",
            "Requirement already satisfied: numpy<2.0,>=1.16.0 in /usr/local/lib/python3.6/dist-packages (from tf-nightly-gpu-2.0-preview) (1.17.4)\n",
            "Requirement already satisfied: tensorflow-estimator-2.0-preview in /usr/local/lib/python3.6/dist-packages (from tf-nightly-gpu-2.0-preview) (2.0.0)\n",
            "Requirement already satisfied: google-pasta>=0.1.6 in /usr/local/lib/python3.6/dist-packages (from tf-nightly-gpu-2.0-preview) (0.1.8)\n",
            "Requirement already satisfied: gast==0.2.2 in /usr/local/lib/python3.6/dist-packages (from tf-nightly-gpu-2.0-preview) (0.2.2)\n",
            "Requirement already satisfied: six>=1.10.0 in /usr/local/lib/python3.6/dist-packages (from tf-nightly-gpu-2.0-preview) (1.12.0)\n",
            "Requirement already satisfied: termcolor>=1.1.0 in /usr/local/lib/python3.6/dist-packages (from tf-nightly-gpu-2.0-preview) (1.1.0)\n",
            "Requirement already satisfied: wheel>=0.26; python_version >= \"3\" in /usr/local/lib/python3.6/dist-packages (from tf-nightly-gpu-2.0-preview) (0.33.6)\n",
            "Requirement already satisfied: tb-nightly<2.2.0a0,>=2.1.0a0 in /usr/local/lib/python3.6/dist-packages (from tf-nightly-gpu-2.0-preview) (2.1.0a20191206)\n",
            "Requirement already satisfied: keras-preprocessing>=1.0.5 in /usr/local/lib/python3.6/dist-packages (from tf-nightly-gpu-2.0-preview) (1.1.0)\n",
            "Requirement already satisfied: protobuf>=3.6.1 in /usr/local/lib/python3.6/dist-packages (from tf-nightly-gpu-2.0-preview) (3.10.0)\n",
            "Requirement already satisfied: h5py in /usr/local/lib/python3.6/dist-packages (from keras-applications>=1.0.8->tf-nightly-gpu-2.0-preview) (2.8.0)\n",
            "Requirement already satisfied: google-auth<2,>=1.6.3 in /usr/local/lib/python3.6/dist-packages (from tb-nightly<2.2.0a0,>=2.1.0a0->tf-nightly-gpu-2.0-preview) (1.7.2)\n",
            "Requirement already satisfied: requests<3,>=2.21.0 in /usr/local/lib/python3.6/dist-packages (from tb-nightly<2.2.0a0,>=2.1.0a0->tf-nightly-gpu-2.0-preview) (2.21.0)\n",
            "Requirement already satisfied: markdown>=2.6.8 in /usr/local/lib/python3.6/dist-packages (from tb-nightly<2.2.0a0,>=2.1.0a0->tf-nightly-gpu-2.0-preview) (3.1.1)\n",
            "Requirement already satisfied: google-auth-oauthlib<0.5,>=0.4.1 in /usr/local/lib/python3.6/dist-packages (from tb-nightly<2.2.0a0,>=2.1.0a0->tf-nightly-gpu-2.0-preview) (0.4.1)\n",
            "Requirement already satisfied: setuptools>=41.0.0 in /usr/local/lib/python3.6/dist-packages (from tb-nightly<2.2.0a0,>=2.1.0a0->tf-nightly-gpu-2.0-preview) (42.0.1)\n",
            "Requirement already satisfied: werkzeug>=0.11.15 in /usr/local/lib/python3.6/dist-packages (from tb-nightly<2.2.0a0,>=2.1.0a0->tf-nightly-gpu-2.0-preview) (0.16.0)\n",
            "Requirement already satisfied: cachetools<3.2,>=2.0.0 in /usr/local/lib/python3.6/dist-packages (from google-auth<2,>=1.6.3->tb-nightly<2.2.0a0,>=2.1.0a0->tf-nightly-gpu-2.0-preview) (3.1.1)\n",
            "Requirement already satisfied: rsa<4.1,>=3.1.4 in /usr/local/lib/python3.6/dist-packages (from google-auth<2,>=1.6.3->tb-nightly<2.2.0a0,>=2.1.0a0->tf-nightly-gpu-2.0-preview) (4.0)\n",
            "Requirement already satisfied: pyasn1-modules>=0.2.1 in /usr/local/lib/python3.6/dist-packages (from google-auth<2,>=1.6.3->tb-nightly<2.2.0a0,>=2.1.0a0->tf-nightly-gpu-2.0-preview) (0.2.7)\n",
            "Requirement already satisfied: idna<2.9,>=2.5 in /usr/local/lib/python3.6/dist-packages (from requests<3,>=2.21.0->tb-nightly<2.2.0a0,>=2.1.0a0->tf-nightly-gpu-2.0-preview) (2.8)\n",
            "Requirement already satisfied: chardet<3.1.0,>=3.0.2 in /usr/local/lib/python3.6/dist-packages (from requests<3,>=2.21.0->tb-nightly<2.2.0a0,>=2.1.0a0->tf-nightly-gpu-2.0-preview) (3.0.4)\n",
            "Requirement already satisfied: urllib3<1.25,>=1.21.1 in /usr/local/lib/python3.6/dist-packages (from requests<3,>=2.21.0->tb-nightly<2.2.0a0,>=2.1.0a0->tf-nightly-gpu-2.0-preview) (1.24.3)\n",
            "Requirement already satisfied: certifi>=2017.4.17 in /usr/local/lib/python3.6/dist-packages (from requests<3,>=2.21.0->tb-nightly<2.2.0a0,>=2.1.0a0->tf-nightly-gpu-2.0-preview) (2019.11.28)\n",
            "Requirement already satisfied: requests-oauthlib>=0.7.0 in /usr/local/lib/python3.6/dist-packages (from google-auth-oauthlib<0.5,>=0.4.1->tb-nightly<2.2.0a0,>=2.1.0a0->tf-nightly-gpu-2.0-preview) (1.3.0)\n",
            "Requirement already satisfied: pyasn1>=0.1.3 in /usr/local/lib/python3.6/dist-packages (from rsa<4.1,>=3.1.4->google-auth<2,>=1.6.3->tb-nightly<2.2.0a0,>=2.1.0a0->tf-nightly-gpu-2.0-preview) (0.4.8)\n",
            "Requirement already satisfied: oauthlib>=3.0.0 in /usr/local/lib/python3.6/dist-packages (from requests-oauthlib>=0.7.0->google-auth-oauthlib<0.5,>=0.4.1->tb-nightly<2.2.0a0,>=2.1.0a0->tf-nightly-gpu-2.0-preview) (3.1.0)\n"
          ],
          "name": "stdout"
        }
      ]
    },
    {
      "cell_type": "code",
      "metadata": {
        "id": "X3xNlsYaTKne",
        "colab_type": "code",
        "colab": {}
      },
      "source": [
        "import tensorflow.compat.v1 as tf\n",
        "tf.disable_v2_behavior()\n"
      ],
      "execution_count": 0,
      "outputs": []
    },
    {
      "cell_type": "code",
      "metadata": {
        "id": "ppC23F7P0_sm",
        "colab_type": "code",
        "outputId": "d12d78ba-3b07-4c21-b31c-e131fcb39ec7",
        "colab": {
          "base_uri": "https://localhost:8080/",
          "height": 207
        }
      },
      "source": [
        "import os\n",
        "!pip show tensorflow"
      ],
      "execution_count": 2,
      "outputs": [
        {
          "output_type": "stream",
          "text": [
            "Name: tensorflow\n",
            "Version: 1.15.0\n",
            "Summary: TensorFlow is an open source machine learning framework for everyone.\n",
            "Home-page: https://www.tensorflow.org/\n",
            "Author: Google Inc.\n",
            "Author-email: packages@tensorflow.org\n",
            "License: Apache 2.0\n",
            "Location: /usr/local/lib/python3.6/dist-packages\n",
            "Requires: six, opt-einsum, termcolor, tensorflow-estimator, tensorboard, keras-preprocessing, wrapt, google-pasta, protobuf, astor, wheel, keras-applications, numpy, absl-py, gast, grpcio\n",
            "Required-by: stable-baselines, magenta, fancyimpute\n"
          ],
          "name": "stdout"
        }
      ]
    },
    {
      "cell_type": "code",
      "metadata": {
        "id": "gAUUMCChlDjx",
        "colab_type": "code",
        "outputId": "1d991b7a-2eb3-4b27-c473-d4a7dc4cc2c2",
        "colab": {
          "base_uri": "https://localhost:8080/",
          "height": 241
        }
      },
      "source": [
        "pip install --upgrade tensorflow-gpu==1.4\n"
      ],
      "execution_count": 0,
      "outputs": [
        {
          "output_type": "stream",
          "text": [
            "Requirement already up-to-date: tensorflow-gpu==1.4 in /usr/local/lib/python3.6/dist-packages (1.4.0)\n",
            "Requirement already satisfied, skipping upgrade: tensorflow-tensorboard<0.5.0,>=0.4.0rc1 in /usr/local/lib/python3.6/dist-packages (from tensorflow-gpu==1.4) (0.4.0)\n",
            "Requirement already satisfied, skipping upgrade: protobuf>=3.3.0 in /usr/local/lib/python3.6/dist-packages (from tensorflow-gpu==1.4) (3.10.0)\n",
            "Requirement already satisfied, skipping upgrade: numpy>=1.12.1 in /usr/local/lib/python3.6/dist-packages (from tensorflow-gpu==1.4) (1.17.4)\n",
            "Requirement already satisfied, skipping upgrade: enum34>=1.1.6 in /usr/local/lib/python3.6/dist-packages (from tensorflow-gpu==1.4) (1.1.6)\n",
            "Requirement already satisfied, skipping upgrade: six>=1.10.0 in /usr/local/lib/python3.6/dist-packages (from tensorflow-gpu==1.4) (1.12.0)\n",
            "Requirement already satisfied, skipping upgrade: wheel>=0.26 in /usr/local/lib/python3.6/dist-packages (from tensorflow-gpu==1.4) (0.33.6)\n",
            "Requirement already satisfied, skipping upgrade: html5lib==0.9999999 in /usr/local/lib/python3.6/dist-packages (from tensorflow-tensorboard<0.5.0,>=0.4.0rc1->tensorflow-gpu==1.4) (0.9999999)\n",
            "Requirement already satisfied, skipping upgrade: werkzeug>=0.11.10 in /usr/local/lib/python3.6/dist-packages (from tensorflow-tensorboard<0.5.0,>=0.4.0rc1->tensorflow-gpu==1.4) (0.16.0)\n",
            "Requirement already satisfied, skipping upgrade: bleach==1.5.0 in /usr/local/lib/python3.6/dist-packages (from tensorflow-tensorboard<0.5.0,>=0.4.0rc1->tensorflow-gpu==1.4) (1.5.0)\n",
            "Requirement already satisfied, skipping upgrade: markdown>=2.6.8 in /usr/local/lib/python3.6/dist-packages (from tensorflow-tensorboard<0.5.0,>=0.4.0rc1->tensorflow-gpu==1.4) (3.1.1)\n",
            "Requirement already satisfied, skipping upgrade: setuptools in /usr/local/lib/python3.6/dist-packages (from protobuf>=3.3.0->tensorflow-gpu==1.4) (42.0.1)\n"
          ],
          "name": "stdout"
        }
      ]
    },
    {
      "cell_type": "code",
      "metadata": {
        "id": "LXBoRh30pXJw",
        "colab_type": "code",
        "outputId": "a1384298-675f-4a69-88b1-6c6377323195",
        "colab": {
          "base_uri": "https://localhost:8080/",
          "height": 187
        }
      },
      "source": [
        "!pip show keras"
      ],
      "execution_count": 0,
      "outputs": [
        {
          "output_type": "stream",
          "text": [
            "Name: Keras\n",
            "Version: 2.2.5\n",
            "Summary: Deep Learning for humans\n",
            "Home-page: https://github.com/keras-team/keras\n",
            "Author: Francois Chollet\n",
            "Author-email: francois.chollet@gmail.com\n",
            "License: MIT\n",
            "Location: /usr/local/lib/python3.6/dist-packages\n",
            "Requires: keras-preprocessing, keras-applications, six, pyyaml, numpy, scipy, h5py\n",
            "Required-by: textgenrnn, keras-vis, kapre, fancyimpute\n"
          ],
          "name": "stdout"
        }
      ]
    },
    {
      "cell_type": "code",
      "metadata": {
        "id": "jr0cy0uC1GOu",
        "colab_type": "code",
        "colab": {}
      },
      "source": [
        "os.chdir('/content/drive/My Drive/BRATS-2/Image_Data/HG')\n"
      ],
      "execution_count": 0,
      "outputs": []
    },
    {
      "cell_type": "code",
      "metadata": {
        "id": "qC0yym6b1Kwq",
        "colab_type": "code",
        "outputId": "6c97c6d8-3295-45ce-f6a4-afac156a41dc",
        "colab": {
          "base_uri": "https://localhost:8080/",
          "height": 122
        }
      },
      "source": [
        "!pip3 install SimpleITK\n"
      ],
      "execution_count": 4,
      "outputs": [
        {
          "output_type": "stream",
          "text": [
            "Collecting SimpleITK\n",
            "\u001b[?25l  Downloading https://files.pythonhosted.org/packages/f8/d8/53338c34f71020725ffb3557846c80af96c29c03bc883551a2565aa68a7c/SimpleITK-1.2.4-cp36-cp36m-manylinux1_x86_64.whl (42.5MB)\n",
            "\u001b[K     |████████████████████████████████| 42.5MB 211kB/s \n",
            "\u001b[?25hInstalling collected packages: SimpleITK\n",
            "Successfully installed SimpleITK-1.2.4\n"
          ],
          "name": "stdout"
        }
      ]
    },
    {
      "cell_type": "code",
      "metadata": {
        "id": "K82XkNZ91OOE",
        "colab_type": "code",
        "colab": {}
      },
      "source": [
        "import SimpleITK as sitk\n",
        "import numpy as np\n",
        "\n"
      ],
      "execution_count": 0,
      "outputs": []
    },
    {
      "cell_type": "code",
      "metadata": {
        "id": "7NrSUPU41R4Y",
        "colab_type": "code",
        "outputId": "8648acde-0647-4a89-9f49-7aff2785c575",
        "colab": {
          "base_uri": "https://localhost:8080/",
          "height": 34
        }
      },
      "source": [
        "import os\n",
        "path = '/content/drive/My Drive/BRATS-2/Image_Data/LG/0002'\n",
        "p = os.listdir(path)\n",
        "p.sort(key=str.lower)\n",
        "arr=[]\n",
        "\n",
        "for i in range(len(p)):\n",
        "  if 'more' in p[i] or 'OT' in p[i]:\n",
        "    if p[i] != '.DS_Store':\n",
        "      p1 = os.listdir(path+'/'+p[i])\n",
        "      img = sitk.ReadImage(path+'/'+p[i]+'/'+p1[0])\n",
        "      Y_labels = sitk.GetArrayFromImage(img) \n",
        "      print(Y_labels.shape)\n",
        "  else:\n",
        "    if p[i] != '.DS_Store':\n",
        "      p1 = os.listdir(path+'/'+p[i])\n",
        "      p1.sort()\n",
        "      img = sitk.ReadImage(path + '/' + p[i]+'/'+p1[-1])\n",
        "      arr.append(sitk.GetArrayFromImage(img))\n",
        "      \n",
        "data = np.zeros((Y_labels.shape[1],Y_labels.shape[0],Y_labels.shape[2],4))\n",
        "for i in range(Y_labels.shape[1]):\n",
        "  data[i,:,:,0] = arr[0][:,i,:]\n",
        "  data[i,:,:,1] = arr[1][:,i,:]\n",
        "  data[i,:,:,2] = arr[2][:,i,:]\n",
        "  data[i,:,:,3] = arr[3][:,i,:]"
      ],
      "execution_count": 6,
      "outputs": [
        {
          "output_type": "stream",
          "text": [
            "(176, 236, 216)\n"
          ],
          "name": "stdout"
        }
      ]
    },
    {
      "cell_type": "code",
      "metadata": {
        "id": "DBmPK1pTOrQW",
        "colab_type": "code",
        "outputId": "9f967388-0284-4e0f-dcb9-b56ad9e60f8c",
        "colab": {
          "base_uri": "https://localhost:8080/",
          "height": 695
        }
      },
      "source": [
        "%pylab inline\n",
        "import matplotlib.pyplot as plt\n",
        "img = data[126,:,:,0]\n",
        "imgplot = plt.imshow(img)\n",
        "plt.show()\n",
        "plt.imsave('slice_126_4',img,cmap='gray')"
      ],
      "execution_count": 7,
      "outputs": [
        {
          "output_type": "stream",
          "text": [
            "Populating the interactive namespace from numpy and matplotlib\n"
          ],
          "name": "stdout"
        },
        {
          "output_type": "display_data",
          "data": {
            "image/png": "[encoded data removed]",
            "text/plain": [
              "<Figure size 432x288 with 1 Axes>"
            ]
          },
          "metadata": {
            "tags": []
          }
        },
        {
          "output_type": "error",
          "ename": "ValueError",
          "evalue": "ignored",
          "traceback": [
            "\u001b[0;31m---------------------------------------------------------------------------\u001b[0m",
            "\u001b[0;31mKeyError\u001b[0m                                  Traceback (most recent call last)",
            "\u001b[0;32m/usr/local/lib/python3.6/dist-packages/PIL/Image.py\u001b[0m in \u001b[0;36msave\u001b[0;34m(self, fp, format, **params)\u001b[0m\n\u001b[1;32m   1910\u001b[0m             \u001b[0;32mtry\u001b[0m\u001b[0;34m:\u001b[0m\u001b[0;34m\u001b[0m\u001b[0;34m\u001b[0m\u001b[0m\n\u001b[0;32m-> 1911\u001b[0;31m                 \u001b[0mformat\u001b[0m \u001b[0;34m=\u001b[0m \u001b[0mEXTENSION\u001b[0m\u001b[0;34m[\u001b[0m\u001b[0mext\u001b[0m\u001b[0;34m]\u001b[0m\u001b[0;34m\u001b[0m\u001b[0;34m\u001b[0m\u001b[0m\n\u001b[0m\u001b[1;32m   1912\u001b[0m             \u001b[0;32mexcept\u001b[0m \u001b[0mKeyError\u001b[0m\u001b[0;34m:\u001b[0m\u001b[0;34m\u001b[0m\u001b[0;34m\u001b[0m\u001b[0m\n",
            "\u001b[0;31mKeyError\u001b[0m: ''",
            "\nDuring handling of the above exception, another exception occurred:\n",
            "\u001b[0;31mValueError\u001b[0m                                Traceback (most recent call last)",
            "\u001b[0;32m<ipython-input-7-6468d5474c37>\u001b[0m in \u001b[0;36m<module>\u001b[0;34m()\u001b[0m\n\u001b[1;32m      4\u001b[0m \u001b[0mimgplot\u001b[0m \u001b[0;34m=\u001b[0m \u001b[0mplt\u001b[0m\u001b[0;34m.\u001b[0m\u001b[0mimshow\u001b[0m\u001b[0;34m(\u001b[0m\u001b[0mimg\u001b[0m\u001b[0;34m)\u001b[0m\u001b[0;34m\u001b[0m\u001b[0;34m\u001b[0m\u001b[0m\n\u001b[1;32m      5\u001b[0m \u001b[0mplt\u001b[0m\u001b[0;34m.\u001b[0m\u001b[0mshow\u001b[0m\u001b[0;34m(\u001b[0m\u001b[0;34m)\u001b[0m\u001b[0;34m\u001b[0m\u001b[0;34m\u001b[0m\u001b[0m\n\u001b[0;32m----> 6\u001b[0;31m \u001b[0mplt\u001b[0m\u001b[0;34m.\u001b[0m\u001b[0mimsave\u001b[0m\u001b[0;34m(\u001b[0m\u001b[0;34m'slice_126_4'\u001b[0m\u001b[0;34m,\u001b[0m\u001b[0mimg\u001b[0m\u001b[0;34m,\u001b[0m\u001b[0mcmap\u001b[0m\u001b[0;34m=\u001b[0m\u001b[0;34m'gray'\u001b[0m\u001b[0;34m)\u001b[0m\u001b[0;34m\u001b[0m\u001b[0;34m\u001b[0m\u001b[0m\n\u001b[0m",
            "\u001b[0;32m/usr/local/lib/python3.6/dist-packages/matplotlib/pyplot.py\u001b[0m in \u001b[0;36mimsave\u001b[0;34m(fname, arr, **kwargs)\u001b[0m\n\u001b[1;32m   2131\u001b[0m \u001b[0;34m@\u001b[0m\u001b[0mdocstring\u001b[0m\u001b[0;34m.\u001b[0m\u001b[0mcopy\u001b[0m\u001b[0;34m(\u001b[0m\u001b[0mmatplotlib\u001b[0m\u001b[0;34m.\u001b[0m\u001b[0mimage\u001b[0m\u001b[0;34m.\u001b[0m\u001b[0mimsave\u001b[0m\u001b[0;34m)\u001b[0m\u001b[0;34m\u001b[0m\u001b[0;34m\u001b[0m\u001b[0m\n\u001b[1;32m   2132\u001b[0m \u001b[0;32mdef\u001b[0m \u001b[0mimsave\u001b[0m\u001b[0;34m(\u001b[0m\u001b[0mfname\u001b[0m\u001b[0;34m,\u001b[0m \u001b[0marr\u001b[0m\u001b[0;34m,\u001b[0m \u001b[0;34m**\u001b[0m\u001b[0mkwargs\u001b[0m\u001b[0;34m)\u001b[0m\u001b[0;34m:\u001b[0m\u001b[0;34m\u001b[0m\u001b[0;34m\u001b[0m\u001b[0m\n\u001b[0;32m-> 2133\u001b[0;31m     \u001b[0;32mreturn\u001b[0m \u001b[0mmatplotlib\u001b[0m\u001b[0;34m.\u001b[0m\u001b[0mimage\u001b[0m\u001b[0;34m.\u001b[0m\u001b[0mimsave\u001b[0m\u001b[0;34m(\u001b[0m\u001b[0mfname\u001b[0m\u001b[0;34m,\u001b[0m \u001b[0marr\u001b[0m\u001b[0;34m,\u001b[0m \u001b[0;34m**\u001b[0m\u001b[0mkwargs\u001b[0m\u001b[0;34m)\u001b[0m\u001b[0;34m\u001b[0m\u001b[0;34m\u001b[0m\u001b[0m\n\u001b[0m\u001b[1;32m   2134\u001b[0m \u001b[0;34m\u001b[0m\u001b[0m\n\u001b[1;32m   2135\u001b[0m \u001b[0;34m\u001b[0m\u001b[0m\n",
            "\u001b[0;32m/usr/local/lib/python3.6/dist-packages/matplotlib/image.py\u001b[0m in \u001b[0;36mimsave\u001b[0;34m(fname, arr, vmin, vmax, cmap, format, origin, dpi)\u001b[0m\n\u001b[1;32m   1514\u001b[0m                 \u001b[0mbackground\u001b[0m\u001b[0;34m.\u001b[0m\u001b[0mpaste\u001b[0m\u001b[0;34m(\u001b[0m\u001b[0mimage\u001b[0m\u001b[0;34m,\u001b[0m \u001b[0mimage\u001b[0m\u001b[0;34m)\u001b[0m\u001b[0;34m\u001b[0m\u001b[0;34m\u001b[0m\u001b[0m\n\u001b[1;32m   1515\u001b[0m                 \u001b[0mimage\u001b[0m \u001b[0;34m=\u001b[0m \u001b[0mbackground\u001b[0m\u001b[0;34m\u001b[0m\u001b[0;34m\u001b[0m\u001b[0m\n\u001b[0;32m-> 1516\u001b[0;31m             \u001b[0mimage\u001b[0m\u001b[0;34m.\u001b[0m\u001b[0msave\u001b[0m\u001b[0;34m(\u001b[0m\u001b[0mfname\u001b[0m\u001b[0;34m,\u001b[0m \u001b[0mformat\u001b[0m\u001b[0;34m=\u001b[0m\u001b[0mformat\u001b[0m\u001b[0;34m,\u001b[0m \u001b[0mdpi\u001b[0m\u001b[0;34m=\u001b[0m\u001b[0;34m(\u001b[0m\u001b[0mdpi\u001b[0m\u001b[0;34m,\u001b[0m \u001b[0mdpi\u001b[0m\u001b[0;34m)\u001b[0m\u001b[0;34m)\u001b[0m\u001b[0;34m\u001b[0m\u001b[0;34m\u001b[0m\u001b[0m\n\u001b[0m\u001b[1;32m   1517\u001b[0m \u001b[0;34m\u001b[0m\u001b[0m\n\u001b[1;32m   1518\u001b[0m \u001b[0;34m\u001b[0m\u001b[0m\n",
            "\u001b[0;32m/usr/local/lib/python3.6/dist-packages/PIL/Image.py\u001b[0m in \u001b[0;36msave\u001b[0;34m(self, fp, format, **params)\u001b[0m\n\u001b[1;32m   1911\u001b[0m                 \u001b[0mformat\u001b[0m \u001b[0;34m=\u001b[0m \u001b[0mEXTENSION\u001b[0m\u001b[0;34m[\u001b[0m\u001b[0mext\u001b[0m\u001b[0;34m]\u001b[0m\u001b[0;34m\u001b[0m\u001b[0;34m\u001b[0m\u001b[0m\n\u001b[1;32m   1912\u001b[0m             \u001b[0;32mexcept\u001b[0m \u001b[0mKeyError\u001b[0m\u001b[0;34m:\u001b[0m\u001b[0;34m\u001b[0m\u001b[0;34m\u001b[0m\u001b[0m\n\u001b[0;32m-> 1913\u001b[0;31m                 \u001b[0;32mraise\u001b[0m \u001b[0mValueError\u001b[0m\u001b[0;34m(\u001b[0m\u001b[0;34m'unknown file extension: {}'\u001b[0m\u001b[0;34m.\u001b[0m\u001b[0mformat\u001b[0m\u001b[0;34m(\u001b[0m\u001b[0mext\u001b[0m\u001b[0;34m)\u001b[0m\u001b[0;34m)\u001b[0m\u001b[0;34m\u001b[0m\u001b[0;34m\u001b[0m\u001b[0m\n\u001b[0m\u001b[1;32m   1914\u001b[0m \u001b[0;34m\u001b[0m\u001b[0m\n\u001b[1;32m   1915\u001b[0m         \u001b[0;32mif\u001b[0m \u001b[0mformat\u001b[0m\u001b[0;34m.\u001b[0m\u001b[0mupper\u001b[0m\u001b[0;34m(\u001b[0m\u001b[0;34m)\u001b[0m \u001b[0;32mnot\u001b[0m \u001b[0;32min\u001b[0m \u001b[0mSAVE\u001b[0m\u001b[0;34m:\u001b[0m\u001b[0;34m\u001b[0m\u001b[0;34m\u001b[0m\u001b[0m\n",
            "\u001b[0;31mValueError\u001b[0m: unknown file extension: "
          ]
        }
      ]
    },
    {
      "cell_type": "code",
      "metadata": {
        "id": "-W3vzSA7OzD2",
        "colab_type": "code",
        "outputId": "ac0d9f64-421a-4651-930a-7b7bc053e13f",
        "colab": {
          "base_uri": "https://localhost:8080/",
          "height": 286
        }
      },
      "source": [
        "\n",
        "%pylab inline\n",
        "import matplotlib.pyplot as plt\n",
        "img = Y_labels[:,126,:]\n",
        "imgplot = plt.imshow(img)\n",
        "plt.show()\n",
        "#plt.imsave('slice_126_GT',img,cmap='gray')"
      ],
      "execution_count": 8,
      "outputs": [
        {
          "output_type": "stream",
          "text": [
            "Populating the interactive namespace from numpy and matplotlib\n"
          ],
          "name": "stdout"
        },
        {
          "output_type": "display_data",
          "data": {
            "image/png": "[encoded data removed]",
            "text/plain": [
              "<Figure size 432x288 with 1 Axes>"
            ]
          },
          "metadata": {
            "tags": []
          }
        }
      ]
    },
    {
      "cell_type": "code",
      "metadata": {
        "id": "UT_xNOTsPC14",
        "colab_type": "code",
        "colab": {}
      },
      "source": [
        "def model_gen(input_dim,x,y,slice_no):\n",
        "  X1 = []\n",
        "  X2 = []\n",
        "  Y = []\n",
        "  \n",
        "  for i in range(int((input_dim)/2),y.shape[0]-int((input_dim)/2)):\n",
        "    for j in range(int((input_dim)/2),y.shape[2]-int((input_dim)/2)):\n",
        "      #Filtering all 0 patches\n",
        "      if(x[i-16:i+17,j-16:j+17,:].any != 0):\n",
        "        X2.append(x[i-16:i+17,j-16:j+17,:])\n",
        "        X1.append(x[i-int((input_dim)/2):i+int((input_dim)/2)+1,j-int((input_dim)/2):j+int((input_dim)/2)+1,:])\n",
        "        Y.append(y[i,slice_no,j])\n",
        "      \n",
        "      \n",
        "  X1 = np.asarray(X1)\n",
        "  X2 = np.asarray(X2)\n",
        "  Y = np.asarray(Y)\n",
        "  d = [X1,X2,Y]\n",
        "  return d"
      ],
      "execution_count": 0,
      "outputs": []
    },
    {
      "cell_type": "code",
      "metadata": {
        "id": "m2MsaLYPPG7l",
        "colab_type": "code",
        "colab": {}
      },
      "source": [
        "def data_gen(data,y,slice_no,model_no):\n",
        "  d = []\n",
        "  x = data[slice_no]\n",
        "  #filtering all 0 slices and non-tumor slices\n",
        "  if(x.any() != 0 and y.any() != 0):\n",
        "    if(model_no == 0):\n",
        "      X1 = []\n",
        "      for i in range(16,159):\n",
        "        for j in range(16,199):\n",
        "          if(x[i-16:i+17,j-16:j+17,:].all != 0):\n",
        "            X1.append(x[i-16:i+17,j-16:j+17,:])\n",
        "      Y1 = []\n",
        "      for i in range(16,159):\n",
        "        for j in range(16,199):\n",
        "          if(x[i-16:i+17,j-16:j+17,:].all != 0):\n",
        "            Y1.append(y[i,slice_no,j]) \n",
        "      X1 = np.asarray(X1)\n",
        "      Y1 = np.asarray(Y1)\n",
        "      d = [X1,Y1]\n",
        "    elif(model_no == 1):\n",
        "      d = model_gen(65,x,y,slice_no)\n",
        "    elif(model_no == 2):\n",
        "      d = model_gen(56,x,y,slice_no)\n",
        "    elif(model_no == 3):\n",
        "      d = model_gen(53,x,y,slice_no)  \n",
        "    \n",
        "  return d"
      ],
      "execution_count": 0,
      "outputs": []
    },
    {
      "cell_type": "code",
      "metadata": {
        "id": "kvPx2quh8Ree",
        "colab_type": "code",
        "outputId": "a4fb709a-ac64-4db1-a33c-bfe9da15c56c",
        "colab": {
          "base_uri": "https://localhost:8080/",
          "height": 34
        }
      },
      "source": [
        ""
      ],
      "execution_count": 0,
      "outputs": [
        {
          "output_type": "stream",
          "text": [
            "/bin/bash: bazel: command not found\n"
          ],
          "name": "stdout"
        }
      ]
    },
    {
      "cell_type": "code",
      "metadata": {
        "id": "Gs-K3wtfPwOA",
        "colab_type": "code",
        "outputId": "2021b69a-65a5-45d5-cba3-96ae14c53ff2",
        "colab": {
          "base_uri": "https://localhost:8080/",
          "height": 80
        }
      },
      "source": [
        "import tensorflow as tf\n",
        "from tensorflow.keras import layers\n",
        "from tensorflow.keras.layers import Input, Dense, Activation, ZeroPadding2D, BatchNormalization, Flatten, Conv2D, Lambda,Concatenate\n",
        "from tensorflow.keras.layers import AveragePooling2D, MaxPooling2D, Dropout, GlobalMaxPooling2D, GlobalAveragePooling2D, Add\n",
        "from tensorflow.keras.models import Model\n",
        "from tensorflow.keras import regularizers\n",
        "from tensorflow.keras.preprocessing import image\n",
        "from keras.utils import layer_utils\n",
        "from keras.utils.data_utils import get_file\n",
        "from tensorflow.keras.applications.imagenet_utils import preprocess_input\n",
        "from tensorflow.keras.initializers import glorot_normal\n",
        "#import pydot\n",
        "from IPython.display import SVG\n",
        "from tensorflow.keras import regularizers\n",
        "\n",
        "from keras.utils.vis_utils import model_to_dot\n",
        "from tensorflow.keras.utils import plot_model\n",
        "\n"
      ],
      "execution_count": 12,
      "outputs": [
        {
          "output_type": "display_data",
          "data": {
            "text/html": [
              "<p style=\"color: red;\">\n",
              "The default version of TensorFlow in Colab will soon switch to TensorFlow 2.x.<br>\n",
              "We recommend you <a href=\"https://www.tensorflow.org/guide/migrate\" target=\"_blank\">upgrade</a> now \n",
              "or ensure your notebook will continue to use TensorFlow 1.x via the <code>%tensorflow_version 1.x</code> magic:\n",
              "<a href=\"https://colab.research.google.com/notebooks/tensorflow_version.ipynb\" target=\"_blank\">more info</a>.</p>\n"
            ],
            "text/plain": [
              "<IPython.core.display.HTML object>"
            ]
          },
          "metadata": {
            "tags": []
          }
        },
        {
          "output_type": "stream",
          "text": [
            "Using TensorFlow backend.\n"
          ],
          "name": "stderr"
        }
      ]
    },
    {
      "cell_type": "code",
      "metadata": {
        "id": "tuky77UKPK7a",
        "colab_type": "code",
        "colab": {}
      },
      "source": [
        "def two_path(X_input):\n",
        "\n",
        "  X = Conv2D(64,(7,7),strides=(1,1),padding='valid', kernel_regularizer=regularizers.l2(0.01),\n",
        "               activity_regularizer=regularizers.l1(0.01) )(X_input)\n",
        "\n",
        "\n",
        "  X = BatchNormalization()(X)\n",
        "  X1 = Conv2D(64,(7,7),strides=(1,1),padding='valid', kernel_regularizer=regularizers.l2(0.01),\n",
        "               activity_regularizer=regularizers.l1(0.01))(X_input)\n",
        "  X1 = BatchNormalization()(X1)\n",
        "  # Max-out\n",
        "  X = layers.Maximum()([X,X1])\n",
        "  X = layers.Dropout(.5)(X)\n",
        "  X = Conv2D(64,(4,4),strides=(1,1),padding='valid',activation='relu', kernel_regularizer=regularizers.l2(0.01),\n",
        "               activity_regularizer=regularizers.l1(0.01))(X)\n",
        "  \n",
        "\n",
        "  X2 = Conv2D(160,(13,13),strides=(1,1),padding='valid', kernel_regularizer=regularizers.l2(0.01),\n",
        "               activity_regularizer=regularizers.l1(0.01))(X_input)\n",
        "  X2 = BatchNormalization()(X2)\n",
        "  X21 = Conv2D(160,(13,13),strides=(1,1),padding='valid', kernel_regularizer=regularizers.l2(0.01),\n",
        "               activity_regularizer=regularizers.l1(0.01))(X_input)\n",
        "  X21 = BatchNormalization()(X21)\n",
        "\n",
        "  X2 = layers.Maximum()([X2,X21])\n",
        "  X2 = layers.Dropout(.5)(X2)\n",
        "\n",
        "  \n",
        "\n",
        "  X3 = Conv2D(64,(3,3),strides=(1,1),padding='valid', kernel_regularizer=regularizers.l2(0.01),\n",
        "               activity_regularizer=regularizers.l1(0.01))(X)\n",
        "  X3 = BatchNormalization()(X3)\n",
        "  X31 =  Conv2D(64,(3,3),strides=(1,1),padding='valid',  kernel_regularizer=regularizers.l2(0.01),\n",
        "               activity_regularizer=regularizers.l1(0.01))(X)\n",
        "  X31 = BatchNormalization()(X31)\n",
        "  X = layers.Maximum()([X3,X31])\n",
        "  X = layers.Dropout(.5)(X)\n",
        "\n",
        "  X = Conv2D(64,(2,2),strides=(1,1),padding='valid',activation='relu', kernel_regularizer=regularizers.l2(0.01),\n",
        "               activity_regularizer=regularizers.l1(0.01))(X)\n",
        "  \n",
        "  X = Concatenate()([X2,X])\n",
        "\n",
        "  return X"
      ],
      "execution_count": 0,
      "outputs": []
    },
    {
      "cell_type": "code",
      "metadata": {
        "id": "IFKFL29MYhdv",
        "colab_type": "code",
        "colab": {}
      },
      "source": [
        "\n"
      ],
      "execution_count": 0,
      "outputs": []
    },
    {
      "cell_type": "code",
      "metadata": {
        "id": "TFYyw0QiPNuD",
        "colab_type": "code",
        "colab": {}
      },
      "source": [
        "def input_cascade(input_shape1,input_shape2):\n",
        "  \n",
        "  X1_input = Input(input_shape1)\n",
        "\n",
        "\n",
        "  X1 = two_path(X1_input)\n",
        "  X1 = Conv2D(5,(21,21),strides=(1,1),padding='valid',activation='relu', kernel_regularizer=regularizers.l2(0.01),\n",
        "               activity_regularizer=regularizers.l1(0.01))(X1)\n",
        "  X1 = BatchNormalization()(X1)\n",
        "  \n",
        "  X2_input = Input(input_shape2)\n",
        "\n",
        "\n",
        "  X2_input1 = Concatenate()([X1,X2_input])\n",
        "  X2 = two_path(X2_input1)\n",
        "  \n",
        "\n",
        "  X2 = Conv2D(5,(21,21),strides=(1,1),padding='valid',  kernel_regularizer=regularizers.l2(0.01),\n",
        "               activity_regularizer=regularizers.l1(0.01))(X2)\n",
        "  X2 = BatchNormalization()(X2)\n",
        "\n",
        "\n",
        "  X2 = Activation('softmax')(X2)\n",
        "  \n",
        "  model = Model(inputs=[X1_input,X2_input],outputs=X2)\n",
        "  return model"
      ],
      "execution_count": 0,
      "outputs": []
    },
    {
      "cell_type": "code",
      "metadata": {
        "id": "k6BcUMstPl6Q",
        "colab_type": "code",
        "colab": {}
      },
      "source": [
        ""
      ],
      "execution_count": 0,
      "outputs": []
    },
    {
      "cell_type": "code",
      "metadata": {
        "id": "R_REgVjdPnzN",
        "colab_type": "code",
        "colab": {}
      },
      "source": [
        "\n"
      ],
      "execution_count": 0,
      "outputs": []
    },
    {
      "cell_type": "code",
      "metadata": {
        "id": "IHYmqoHRP9d9",
        "colab_type": "code",
        "outputId": "4e090784-2e03-4434-9b36-06f33cbd00f4",
        "colab": {
          "base_uri": "https://localhost:8080/",
          "height": 1000
        }
      },
      "source": [
        "m1 = input_cascade((65,65,4),(33,33,4))\n",
        "m1.summary()"
      ],
      "execution_count": 15,
      "outputs": [
        {
          "output_type": "stream",
          "text": [
            "WARNING:tensorflow:From /usr/local/lib/python3.6/dist-packages/tensorflow_core/python/ops/resource_variable_ops.py:1630: calling BaseResourceVariable.__init__ (from tensorflow.python.ops.resource_variable_ops) with constraint is deprecated and will be removed in a future version.\n",
            "Instructions for updating:\n",
            "If using Keras pass *_constraint arguments to layers.\n",
            "Model: \"model\"\n",
            "__________________________________________________________________________________________________\n",
            "Layer (type)                    Output Shape         Param #     Connected to                     \n",
            "==================================================================================================\n",
            "input_1 (InputLayer)            [(None, 65, 65, 4)]  0                                            \n",
            "__________________________________________________________________________________________________\n",
            "conv2d (Conv2D)                 (None, 59, 59, 64)   12608       input_1[0][0]                    \n",
            "__________________________________________________________________________________________________\n",
            "conv2d_1 (Conv2D)               (None, 59, 59, 64)   12608       input_1[0][0]                    \n",
            "__________________________________________________________________________________________________\n",
            "batch_normalization (BatchNorma (None, 59, 59, 64)   256         conv2d[0][0]                     \n",
            "__________________________________________________________________________________________________\n",
            "batch_normalization_1 (BatchNor (None, 59, 59, 64)   256         conv2d_1[0][0]                   \n",
            "__________________________________________________________________________________________________\n",
            "maximum (Maximum)               (None, 59, 59, 64)   0           batch_normalization[0][0]        \n",
            "                                                                 batch_normalization_1[0][0]      \n",
            "__________________________________________________________________________________________________\n",
            "dropout (Dropout)               (None, 59, 59, 64)   0           maximum[0][0]                    \n",
            "__________________________________________________________________________________________________\n",
            "conv2d_2 (Conv2D)               (None, 56, 56, 64)   65600       dropout[0][0]                    \n",
            "__________________________________________________________________________________________________\n",
            "conv2d_5 (Conv2D)               (None, 54, 54, 64)   36928       conv2d_2[0][0]                   \n",
            "__________________________________________________________________________________________________\n",
            "conv2d_6 (Conv2D)               (None, 54, 54, 64)   36928       conv2d_2[0][0]                   \n",
            "__________________________________________________________________________________________________\n",
            "conv2d_3 (Conv2D)               (None, 53, 53, 160)  108320      input_1[0][0]                    \n",
            "__________________________________________________________________________________________________\n",
            "conv2d_4 (Conv2D)               (None, 53, 53, 160)  108320      input_1[0][0]                    \n",
            "__________________________________________________________________________________________________\n",
            "batch_normalization_4 (BatchNor (None, 54, 54, 64)   256         conv2d_5[0][0]                   \n",
            "__________________________________________________________________________________________________\n",
            "batch_normalization_5 (BatchNor (None, 54, 54, 64)   256         conv2d_6[0][0]                   \n",
            "__________________________________________________________________________________________________\n",
            "batch_normalization_2 (BatchNor (None, 53, 53, 160)  640         conv2d_3[0][0]                   \n",
            "__________________________________________________________________________________________________\n",
            "batch_normalization_3 (BatchNor (None, 53, 53, 160)  640         conv2d_4[0][0]                   \n",
            "__________________________________________________________________________________________________\n",
            "maximum_2 (Maximum)             (None, 54, 54, 64)   0           batch_normalization_4[0][0]      \n",
            "                                                                 batch_normalization_5[0][0]      \n",
            "__________________________________________________________________________________________________\n",
            "maximum_1 (Maximum)             (None, 53, 53, 160)  0           batch_normalization_2[0][0]      \n",
            "                                                                 batch_normalization_3[0][0]      \n",
            "__________________________________________________________________________________________________\n",
            "dropout_2 (Dropout)             (None, 54, 54, 64)   0           maximum_2[0][0]                  \n",
            "__________________________________________________________________________________________________\n",
            "dropout_1 (Dropout)             (None, 53, 53, 160)  0           maximum_1[0][0]                  \n",
            "__________________________________________________________________________________________________\n",
            "conv2d_7 (Conv2D)               (None, 53, 53, 64)   16448       dropout_2[0][0]                  \n",
            "__________________________________________________________________________________________________\n",
            "concatenate (Concatenate)       (None, 53, 53, 224)  0           dropout_1[0][0]                  \n",
            "                                                                 conv2d_7[0][0]                   \n",
            "__________________________________________________________________________________________________\n",
            "conv2d_8 (Conv2D)               (None, 33, 33, 5)    493925      concatenate[0][0]                \n",
            "__________________________________________________________________________________________________\n",
            "batch_normalization_6 (BatchNor (None, 33, 33, 5)    20          conv2d_8[0][0]                   \n",
            "__________________________________________________________________________________________________\n",
            "input_2 (InputLayer)            [(None, 33, 33, 4)]  0                                            \n",
            "__________________________________________________________________________________________________\n",
            "concatenate_1 (Concatenate)     (None, 33, 33, 9)    0           batch_normalization_6[0][0]      \n",
            "                                                                 input_2[0][0]                    \n",
            "__________________________________________________________________________________________________\n",
            "conv2d_9 (Conv2D)               (None, 27, 27, 64)   28288       concatenate_1[0][0]              \n",
            "__________________________________________________________________________________________________\n",
            "conv2d_10 (Conv2D)              (None, 27, 27, 64)   28288       concatenate_1[0][0]              \n",
            "__________________________________________________________________________________________________\n",
            "batch_normalization_7 (BatchNor (None, 27, 27, 64)   256         conv2d_9[0][0]                   \n",
            "__________________________________________________________________________________________________\n",
            "batch_normalization_8 (BatchNor (None, 27, 27, 64)   256         conv2d_10[0][0]                  \n",
            "__________________________________________________________________________________________________\n",
            "maximum_3 (Maximum)             (None, 27, 27, 64)   0           batch_normalization_7[0][0]      \n",
            "                                                                 batch_normalization_8[0][0]      \n",
            "__________________________________________________________________________________________________\n",
            "dropout_3 (Dropout)             (None, 27, 27, 64)   0           maximum_3[0][0]                  \n",
            "__________________________________________________________________________________________________\n",
            "conv2d_11 (Conv2D)              (None, 24, 24, 64)   65600       dropout_3[0][0]                  \n",
            "__________________________________________________________________________________________________\n",
            "conv2d_14 (Conv2D)              (None, 22, 22, 64)   36928       conv2d_11[0][0]                  \n",
            "__________________________________________________________________________________________________\n",
            "conv2d_15 (Conv2D)              (None, 22, 22, 64)   36928       conv2d_11[0][0]                  \n",
            "__________________________________________________________________________________________________\n",
            "conv2d_12 (Conv2D)              (None, 21, 21, 160)  243520      concatenate_1[0][0]              \n",
            "__________________________________________________________________________________________________\n",
            "conv2d_13 (Conv2D)              (None, 21, 21, 160)  243520      concatenate_1[0][0]              \n",
            "__________________________________________________________________________________________________\n",
            "batch_normalization_11 (BatchNo (None, 22, 22, 64)   256         conv2d_14[0][0]                  \n",
            "__________________________________________________________________________________________________\n",
            "batch_normalization_12 (BatchNo (None, 22, 22, 64)   256         conv2d_15[0][0]                  \n",
            "__________________________________________________________________________________________________\n",
            "batch_normalization_9 (BatchNor (None, 21, 21, 160)  640         conv2d_12[0][0]                  \n",
            "__________________________________________________________________________________________________\n",
            "batch_normalization_10 (BatchNo (None, 21, 21, 160)  640         conv2d_13[0][0]                  \n",
            "__________________________________________________________________________________________________\n",
            "maximum_5 (Maximum)             (None, 22, 22, 64)   0           batch_normalization_11[0][0]     \n",
            "                                                                 batch_normalization_12[0][0]     \n",
            "__________________________________________________________________________________________________\n",
            "maximum_4 (Maximum)             (None, 21, 21, 160)  0           batch_normalization_9[0][0]      \n",
            "                                                                 batch_normalization_10[0][0]     \n",
            "__________________________________________________________________________________________________\n",
            "dropout_5 (Dropout)             (None, 22, 22, 64)   0           maximum_5[0][0]                  \n",
            "__________________________________________________________________________________________________\n",
            "dropout_4 (Dropout)             (None, 21, 21, 160)  0           maximum_4[0][0]                  \n",
            "__________________________________________________________________________________________________\n",
            "conv2d_16 (Conv2D)              (None, 21, 21, 64)   16448       dropout_5[0][0]                  \n",
            "__________________________________________________________________________________________________\n",
            "concatenate_2 (Concatenate)     (None, 21, 21, 224)  0           dropout_4[0][0]                  \n",
            "                                                                 conv2d_16[0][0]                  \n",
            "__________________________________________________________________________________________________\n",
            "conv2d_17 (Conv2D)              (None, 1, 1, 5)      493925      concatenate_2[0][0]              \n",
            "__________________________________________________________________________________________________\n",
            "batch_normalization_13 (BatchNo (None, 1, 1, 5)      20          conv2d_17[0][0]                  \n",
            "__________________________________________________________________________________________________\n",
            "activation (Activation)         (None, 1, 1, 5)      0           batch_normalization_13[0][0]     \n",
            "==================================================================================================\n",
            "Total params: 2,089,778\n",
            "Trainable params: 2,087,454\n",
            "Non-trainable params: 2,324\n",
            "__________________________________________________________________________________________________\n"
          ],
          "name": "stdout"
        }
      ]
    },
    {
      "cell_type": "code",
      "metadata": {
        "id": "Ssep_-drQnV3",
        "colab_type": "code",
        "colab": {}
      },
      "source": [
        "from sklearn.utils import class_weight\n"
      ],
      "execution_count": 0,
      "outputs": []
    },
    {
      "cell_type": "code",
      "metadata": {
        "id": "-GjyGadWJ8QO",
        "colab_type": "code",
        "colab": {}
      },
      "source": [
        "from keras import optimizers\n",
        "import keras.backend as K\n"
      ],
      "execution_count": 0,
      "outputs": []
    },
    {
      "cell_type": "code",
      "metadata": {
        "id": "oNt6V30zq1ZK",
        "colab_type": "code",
        "colab": {}
      },
      "source": [
        ""
      ],
      "execution_count": 0,
      "outputs": []
    },
    {
      "cell_type": "markdown",
      "metadata": {
        "id": "ElJqU1X5o05Y",
        "colab_type": "text"
      },
      "source": [
        ""
      ]
    },
    {
      "cell_type": "code",
      "metadata": {
        "id": "rr4DkGNQJhMH",
        "colab_type": "code",
        "colab": {}
      },
      "source": [
        "from sklearn import metrics\n",
        "from sklearn.utils import class_weight\n",
        "\n"
      ],
      "execution_count": 0,
      "outputs": []
    },
    {
      "cell_type": "code",
      "metadata": {
        "id": "u7YI97-ST_Z-",
        "colab_type": "code",
        "colab": {}
      },
      "source": [
        "def data_gen_hg(path,slice_no,model_no):\n",
        "  p = os.listdir(path)\n",
        "  p.sort(key=str.lower)\n",
        "  arr = []\n",
        "  for i in range(len(p)):\n",
        "    if 'more' in p[i] or 'OT' in p[i]:\n",
        "      if p[i] != '.DS_Store':\n",
        "        p1 = os.listdir(path+'/'+p[i])\n",
        "        img = sitk.ReadImage(path+'/'+p[i]+'/'+p1[0])\n",
        "        y = sitk.GetArrayFromImage(img)    \n",
        "\n",
        "    else:\n",
        "      if p[i] != '.DS_Store':\n",
        "        p1 = os.listdir(path+'/'+p[i])\n",
        "        p1.sort()\n",
        "        img = sitk.ReadImage(path + '/' + p[i]+'/'+p1[-1])\n",
        "        arr.append(sitk.GetArrayFromImage(img))\n",
        "  data = np.zeros((196,176,160,4))\n",
        "  for i in range(196):\n",
        "    data[i,:,:,0] = arr[0][:,i,:]\n",
        "    data[i,:,:,1] = arr[1][:,i,:]\n",
        "    data[i,:,:,2] = arr[2][:,i,:]\n",
        "    data[i,:,:,3] = arr[3][:,i,:]\n",
        "  x = data[slice_no]\n",
        "  \n",
        "  if(model_no == 0):\n",
        "    X1 = []\n",
        "    for i in range(16,159):\n",
        "      for j in range(16,199):\n",
        "        X1.append(x[i-16:i+17,j-16:j+17,:])\n",
        "    Y1 = []\n",
        "    for i in range(16,159):\n",
        "      for j in range(16,199):\n",
        "        Y1.append(y[i,slice_no,j]) \n",
        "    X1 = np.asarray(X1)\n",
        "    Y1 = np.asarray(Y1)\n",
        "    d = [X1,Y1]\n",
        "  elif(model_no == 1):\n",
        "    d = model_gen(65,x,y,slice_no)\n",
        "  elif(model_no == 2):\n",
        "    d = model_gen(56,x,y,slice_no)\n",
        "  elif(model_no == 3):\n",
        "    d = model_gen(53,x,y,slice_no)  \n",
        "    \n",
        "  return d"
      ],
      "execution_count": 0,
      "outputs": []
    },
    {
      "cell_type": "code",
      "metadata": {
        "id": "KhiHDLerGDlo",
        "colab_type": "code",
        "colab": {}
      },
      "source": [
        "def data_gen_lg(path,slice_no,model_no):\n",
        "  p = os.listdir(path)\n",
        "  p.sort(key=str.lower)\n",
        "  arr = []\n",
        "  for i in range(len(p)):\n",
        "    if 'more' in p[i] or 'OT' in p[i]:\n",
        "      if p[i] != '.DS_Store':\n",
        "        p1 = os.listdir(path+'/'+p[i])\n",
        "        img = sitk.ReadImage(path+'/'+p[i]+'/'+p1[0])\n",
        "        y = sitk.GetArrayFromImage(img)    \n",
        "\n",
        "    else:\n",
        "      if p[i] != '.DS_Store':\n",
        "        p1 = os.listdir(path+'/'+p[i])\n",
        "        p1.sort()\n",
        "        img = sitk.ReadImage(path + '/' + p[i]+'/'+p1[-1])\n",
        "        arr.append(sitk.GetArrayFromImage(img))\n",
        "  data = np.zeros((196,176,216,4))\n",
        "  for i in range(196):\n",
        "    data[i,:,:,0] = arr[0][:,i,:]\n",
        "    data[i,:,:,1] = arr[1][:,i,:]\n",
        "    data[i,:,:,2] = arr[2][:,i,:]\n",
        "    data[i,:,:,3] = arr[3][:,i,:]\n",
        "  x = data[slice_no]\n",
        "  \n",
        "  if(model_no == 0):\n",
        "    X1 = []\n",
        "    for i in range(16,215):\n",
        "      for j in range(16,199):\n",
        "        X1.append(x[i-16:i+17,j-16:j+17,:])\n",
        "    Y1 = []\n",
        "    for i in range(16,215):\n",
        "      for j in range(16,199):\n",
        "        Y1.append(y[i,slice_no,j]) \n",
        "    X1 = np.asarray(X1)\n",
        "    Y1 = np.asarray(Y1)\n",
        "    d = [X1,Y1]\n",
        "  elif(model_no == 1):\n",
        "    d = model_gen(65,x,y,slice_no)\n",
        "  elif(model_no == 2):\n",
        "    d = model_gen(56,x,y,slice_no)\n",
        "  elif(model_no == 3):\n",
        "    d = model_gen(53,x,y,slice_no)  \n",
        "    \n",
        "  return d"
      ],
      "execution_count": 0,
      "outputs": []
    },
    {
      "cell_type": "code",
      "metadata": {
        "id": "I4w6cmkXqQGK",
        "colab_type": "code",
        "colab": {}
      },
      "source": [
        "d = data_gen_lg('/content/drive/My Drive/BRATS-2/Image_Data/LG/0001',100,1)"
      ],
      "execution_count": 0,
      "outputs": []
    },
    {
      "cell_type": "code",
      "metadata": {
        "id": "_Oj1sGfnVcdR",
        "colab_type": "code",
        "outputId": "e095ba08-1729-4ae2-aa52-cc153b67afca",
        "colab": {
          "base_uri": "https://localhost:8080/",
          "height": 34
        }
      },
      "source": [
        "print(len(d[0]))"
      ],
      "execution_count": 0,
      "outputs": [
        {
          "output_type": "stream",
          "text": [
            "17024\n"
          ],
          "name": "stdout"
        }
      ]
    },
    {
      "cell_type": "code",
      "metadata": {
        "id": "ZNC1oIzH4vwi",
        "colab_type": "code",
        "colab": {}
      },
      "source": [
        "# d = []\n",
        "\n",
        "# for i in range(1,3):\n",
        "#   path = '/content/drive/My Drive/BRATS-2/Image_Data/LG/000' + str(i)\n",
        "#   d.append(data_gen_lg(path, 100,1))\n",
        "  \n"
      ],
      "execution_count": 0,
      "outputs": []
    },
    {
      "cell_type": "code",
      "metadata": {
        "id": "aCbPAuBrcbZE",
        "colab_type": "code",
        "outputId": "70866f36-9943-4873-c320-28876059e443",
        "colab": {
          "base_uri": "https://localhost:8080/",
          "height": 102
        }
      },
      "source": [
        "\n",
        "y = np.zeros((17024,1,1,5))\n",
        "\n",
        "for i in range(y.shape[0]):\n",
        "  y[i,:,:,d[2][i]] = 1\n",
        "\n",
        "\n",
        "sample = np.zeros((5,1))\n",
        "for i in range(5):\n",
        "  sample[i] = np.sum(y[:,:,:,i])\n",
        "print(sample/np.sum(sample))"
      ],
      "execution_count": 23,
      "outputs": [
        {
          "output_type": "stream",
          "text": [
            "[[9.61231203e-01]\n",
            " [2.13228383e-02]\n",
            " [4.34680451e-03]\n",
            " [1.25117481e-02]\n",
            " [5.87406015e-04]]\n"
          ],
          "name": "stdout"
        }
      ]
    },
    {
      "cell_type": "code",
      "metadata": {
        "id": "CiIur16G9JdZ",
        "colab_type": "code",
        "colab": {}
      },
      "source": [
        "\n",
        "# for i in range(4,6):\n",
        "#   path = '/content/drive/My Drive/BRATS-2/Image_Data/HG/000' + str(i)\n",
        "#   d.append(data_gen_hg(path, 100,1))\n",
        " \n"
      ],
      "execution_count": 0,
      "outputs": []
    },
    {
      "cell_type": "code",
      "metadata": {
        "id": "4Kleu1c09s28",
        "colab_type": "code",
        "colab": {}
      },
      "source": [
        "# lengths_d = []\n",
        "# for i in range(len(d)):\n",
        "#   lengths_d.append(len(d[i][0]))\n",
        "# print(lengths_d)"
      ],
      "execution_count": 0,
      "outputs": []
    },
    {
      "cell_type": "code",
      "metadata": {
        "id": "-ImcKgeTVkZn",
        "colab_type": "code",
        "colab": {}
      },
      "source": [
        "# y = []\n",
        "# for i in range(len(lengths_d)):\n",
        "#   y.append(np.zeros((lengths_d[i],1,1,5)))\n",
        "\n"
      ],
      "execution_count": 0,
      "outputs": []
    },
    {
      "cell_type": "code",
      "metadata": {
        "id": "kM1S06snVqt_",
        "colab_type": "code",
        "colab": {}
      },
      "source": [
        "\n",
        "# for j in range(len(d)):\n",
        "#   for i in range(y[j].shape[0]):\n",
        "#     y[j][i,:,:,d[j][2][i]] = 1\n",
        "#   sample = np.zeros((5,1))\n",
        "#   for i in range(5):\n",
        "#     sample[i] = np.sum(y[j][:,:,:,i])\n",
        "#   print(sample/np.sum(sample))\n",
        "\n"
      ],
      "execution_count": 0,
      "outputs": []
    },
    {
      "cell_type": "code",
      "metadata": {
        "id": "QxCdJIZDVyCW",
        "colab_type": "code",
        "outputId": "36415fdc-8432-49ab-ebae-b02a51dc6225",
        "colab": {
          "base_uri": "https://localhost:8080/",
          "height": 34
        }
      },
      "source": [
        "X1 = np.asarray(d[0])\n",
        "X1.shape"
      ],
      "execution_count": 0,
      "outputs": [
        {
          "output_type": "execute_result",
          "data": {
            "text/plain": [
              "(17024, 65, 65, 4)"
            ]
          },
          "metadata": {
            "tags": []
          },
          "execution_count": 25
        }
      ]
    },
    {
      "cell_type": "code",
      "metadata": {
        "id": "PBYXUckLTuwR",
        "colab_type": "code",
        "colab": {}
      },
      "source": [
        ""
      ],
      "execution_count": 0,
      "outputs": []
    },
    {
      "cell_type": "code",
      "metadata": {
        "id": "wrJ6E48eVMDZ",
        "colab_type": "code",
        "colab": {}
      },
      "source": [
        "from tensorflow.keras import backend as K\n",
        "from sklearn.metrics import f1_score\n",
        "\n",
        "def f1(y_true, y_pred):\n",
        "    def recall(y_true, y_pred):\n",
        "        \"\"\"Recall metric.\n",
        "\n",
        "        Only computes a batch-wise average of recall.\n",
        "\n",
        "        Computes the recall, a metric for multi-label classification of\n",
        "        how many relevant items are selected.\n",
        "        \"\"\"\n",
        "        true_positives = K.sum(K.round(K.clip(y_true * y_pred, 0, 1)))\n",
        "        possible_positives = K.sum(K.round(K.clip(y_true, 0, 1)))\n",
        "        recall = true_positives / (possible_positives + K.epsilon())\n",
        "        return recall\n",
        "\n",
        "    def precision(y_true, y_pred):\n",
        "        \"\"\"Precision metric.\n",
        "\n",
        "        Only computes a batch-wise average of precision.\n",
        "\n",
        "        Computes the precision, a metric for multi-label classification of\n",
        "        how many selected items are relevant.\n",
        "        \"\"\"\n",
        "        true_positives = K.sum(K.round(K.clip(y_true * y_pred, 0, 1)))\n",
        "        predicted_positives = K.sum(K.round(K.clip(y_pred, 0, 1)))\n",
        "        precision = true_positives / (predicted_positives + K.epsilon())\n",
        "        return precision\n",
        "    precision = precision(y_true, y_pred)\n",
        "    recall = recall(y_true, y_pred)\n",
        "    return 2*((precision*recall)/(precision+recall+K.epsilon()))"
      ],
      "execution_count": 0,
      "outputs": []
    },
    {
      "cell_type": "code",
      "metadata": {
        "id": "b3lxc6ChUb4a",
        "colab_type": "code",
        "colab": {}
      },
      "source": [
        "\n",
        "# for i in range(len(d)):\n",
        "\n",
        "#     # Create the model based on the model type\n",
        "#     # Create the optimizer\n",
        "#     sgd = optimizers.SGD(lr=.005)\n",
        "\n",
        "\n",
        "#     X1 = np.asarray(d[i][0])\n",
        "#     X2 = np.asarray(d[i][1])\n",
        "\n",
        "#     class_weights = class_weight.compute_class_weight('balanced',\n",
        "#                                                  np.unique(d[i][2]),\n",
        "#                                                  d[i][2])\n",
        "#     m1.compile(loss='categorical_crossentropy',optimizer=sgd,metrics=['accuracy',f1])\n",
        "\n",
        "#         # Compute quantities required for feature-wise normalization\n",
        "#         # (std, mean, and principal components if ZCA whitening is applied).\n",
        "\n",
        "#         # Fit the model on the batches generated by datagen.flow().\n",
        "#     m1_info = m1.fit([X1,X2],y[i],epochs=20,batch_size=256,class_weight = class_weights)\n",
        "\n",
        "#     m1.save('trial_InputCascade_acc.h5'+ i)\n",
        "\n",
        "#     # Save model\n"
      ],
      "execution_count": 0,
      "outputs": []
    },
    {
      "cell_type": "code",
      "metadata": {
        "id": "Io-L_25ZVyLE",
        "colab_type": "code",
        "outputId": "9226783e-67d6-4529-d83c-9db3bdd29242",
        "colab": {
          "base_uri": "https://localhost:8080/",
          "height": 34
        }
      },
      "source": [
        "X2 = np.asarray(d[1])\n",
        "X2.shape"
      ],
      "execution_count": 0,
      "outputs": [
        {
          "output_type": "execute_result",
          "data": {
            "text/plain": [
              "(17024, 33, 33, 4)"
            ]
          },
          "metadata": {
            "tags": []
          },
          "execution_count": 27
        }
      ]
    },
    {
      "cell_type": "code",
      "metadata": {
        "id": "jaYhWGmASZTm",
        "colab_type": "code",
        "colab": {}
      },
      "source": [
        ""
      ],
      "execution_count": 0,
      "outputs": []
    },
    {
      "cell_type": "code",
      "metadata": {
        "id": "1HvhUQSKeYD2",
        "colab_type": "code",
        "outputId": "9f10a41f-6e10-4a9c-9fd6-6daf1798e5d1",
        "colab": {
          "base_uri": "https://localhost:8080/",
          "height": 51
        }
      },
      "source": [
        "from sklearn.utils import class_weight\n",
        "\n",
        "class_weights = class_weight.compute_class_weight('balanced',\n",
        "                                                 np.unique(d[2]),\n",
        "                                                 d[2])\n",
        "\n",
        "class_weights\n",
        "\n"
      ],
      "execution_count": 25,
      "outputs": [
        {
          "output_type": "execute_result",
          "data": {
            "text/plain": [
              "array([2.08066487e-01, 9.37961433e+00, 4.60108108e+01, 1.59849765e+01,\n",
              "       3.40480000e+02])"
            ]
          },
          "metadata": {
            "tags": []
          },
          "execution_count": 25
        }
      ]
    },
    {
      "cell_type": "code",
      "metadata": {
        "id": "xyMaS5lKV-IE",
        "colab_type": "code",
        "outputId": "7aec70ce-81c4-49a0-e7ab-22239bbc664b",
        "colab": {
          "base_uri": "https://localhost:8080/",
          "height": 34
        }
      },
      "source": [
        "m1.input_shape\n"
      ],
      "execution_count": 0,
      "outputs": [
        {
          "output_type": "execute_result",
          "data": {
            "text/plain": [
              "[(None, 65, 65, 4), (None, 33, 33, 4)]"
            ]
          },
          "metadata": {
            "tags": []
          },
          "execution_count": 50
        }
      ]
    },
    {
      "cell_type": "code",
      "metadata": {
        "id": "jWzLjRGC8BKA",
        "colab_type": "code",
        "colab": {}
      },
      "source": [
        ""
      ],
      "execution_count": 0,
      "outputs": []
    },
    {
      "cell_type": "code",
      "metadata": {
        "id": "yM2jJdEDF2Z1",
        "colab_type": "code",
        "colab": {}
      },
      "source": [
        ""
      ],
      "execution_count": 0,
      "outputs": []
    },
    {
      "cell_type": "code",
      "metadata": {
        "id": "SAhIjiTgF4Kd",
        "colab_type": "code",
        "outputId": "deb105f8-32bd-45a7-f194-5501cf910392",
        "colab": {
          "base_uri": "https://localhost:8080/",
          "height": 34
        }
      },
      "source": [
        "#K.clear_session()\n",
        "print(X2.sum())"
      ],
      "execution_count": 0,
      "outputs": [
        {
          "output_type": "stream",
          "text": [
            "11776462582.0\n"
          ],
          "name": "stdout"
        }
      ]
    },
    {
      "cell_type": "code",
      "metadata": {
        "id": "G5j5CIxK8C_M",
        "colab_type": "code",
        "colab": {}
      },
      "source": [
        "# m0.compile(optimizer='sgd',loss='categorical_crossentropy',metrics=['accuracy', f1])\n",
        "# m0_info = m0.fit(X2,y,epochs=100,batch_size=1024,class_weight = class_weights)"
      ],
      "execution_count": 0,
      "outputs": []
    },
    {
      "cell_type": "code",
      "metadata": {
        "id": "pgmX8Cj68Rp2",
        "colab_type": "code",
        "colab": {}
      },
      "source": [
        "from sklearn.metrics import f1_score\n",
        "sgd = tf.keras.optimizers.SGD(lr=.001, decay=.01, momentum=.9, clipnorm=1)\n",
        "m1.compile(loss='categorical_crossentropy',optimizer=sgd,metrics=['accuracy',f1])\n"
      ],
      "execution_count": 0,
      "outputs": []
    },
    {
      "cell_type": "code",
      "metadata": {
        "id": "56sTPTKkxpcw",
        "colab_type": "code",
        "colab": {}
      },
      "source": [
        "K.clear_session()"
      ],
      "execution_count": 0,
      "outputs": []
    },
    {
      "cell_type": "code",
      "metadata": {
        "id": "wpqersxmFLH8",
        "colab_type": "code",
        "outputId": "2fa07ddb-07ff-4733-afa4-5f3a3e798d22",
        "colab": {
          "base_uri": "https://localhost:8080/",
          "height": 785
        }
      },
      "source": [
        "m1_info = m1.fit([X1,X2],y,epochs=20,batch_size=256,class_weight = class_weights)\n"
      ],
      "execution_count": 0,
      "outputs": [
        {
          "output_type": "stream",
          "text": [
            "WARNING:tensorflow:From /usr/local/lib/python3.6/dist-packages/tensorflow_core/python/ops/math_grad.py:1424: where (from tensorflow.python.ops.array_ops) is deprecated and will be removed in a future version.\n",
            "Instructions for updating:\n",
            "Use tf.where in 2.0, which has the same broadcast rule as np.where\n",
            "Train on 10752 samples\n",
            "Epoch 1/20\n",
            "10752/10752 [==============================] - 35s 3ms/sample - loss: 618376.0060 - acc: 0.4680 - f1: 0.2319\n",
            "Epoch 2/20\n",
            "10752/10752 [==============================] - 26s 2ms/sample - loss: 289345.4219 - acc: 0.7472 - f1: 0.3743\n",
            "Epoch 3/20\n",
            "10752/10752 [==============================] - 26s 2ms/sample - loss: 212796.1161 - acc: 0.6785 - f1: 0.4789\n",
            "Epoch 4/20\n",
            "10752/10752 [==============================] - 26s 2ms/sample - loss: 171972.6648 - acc: 0.6659 - f1: 0.4971\n",
            "Epoch 5/20\n",
            "10752/10752 [==============================] - 26s 2ms/sample - loss: 147746.9866 - acc: 0.6741 - f1: 0.5156\n",
            "Epoch 6/20\n",
            "10752/10752 [==============================] - 26s 2ms/sample - loss: 132072.4243 - acc: 0.7099 - f1: 0.5463\n",
            "Epoch 7/20\n",
            "10752/10752 [==============================] - 26s 2ms/sample - loss: 121005.1382 - acc: 0.7314 - f1: 0.5773\n",
            "Epoch 8/20\n",
            "10752/10752 [==============================] - 26s 2ms/sample - loss: 112397.2959 - acc: 0.7420 - f1: 0.5907\n",
            "Epoch 9/20\n",
            "10752/10752 [==============================] - 26s 2ms/sample - loss: 105683.8770 - acc: 0.7580 - f1: 0.6043\n",
            "Epoch 10/20\n",
            "10752/10752 [==============================] - 26s 2ms/sample - loss: 100177.8752 - acc: 0.7691 - f1: 0.6127\n",
            "Epoch 11/20\n",
            "10752/10752 [==============================] - 26s 2ms/sample - loss: 95564.7011 - acc: 0.7711 - f1: 0.6270\n",
            "Epoch 12/20\n",
            "10752/10752 [==============================] - 26s 2ms/sample - loss: 91559.3544 - acc: 0.7837 - f1: 0.6373\n",
            "Epoch 13/20\n",
            "10752/10752 [==============================] - 26s 2ms/sample - loss: 87974.0253 - acc: 0.7880 - f1: 0.6458\n",
            "Epoch 14/20\n",
            "10752/10752 [==============================] - 26s 2ms/sample - loss: 84829.6549 - acc: 0.7878 - f1: 0.6518\n",
            "Epoch 15/20\n",
            "10752/10752 [==============================] - 26s 2ms/sample - loss: 82130.5872 - acc: 0.7973 - f1: 0.6567\n",
            "Epoch 16/20\n",
            "10752/10752 [==============================] - 26s 2ms/sample - loss: 79690.8378 - acc: 0.7992 - f1: 0.6625\n",
            "Epoch 17/20\n",
            "10752/10752 [==============================] - 26s 2ms/sample - loss: 77424.9392 - acc: 0.8013 - f1: 0.6676\n",
            "Epoch 18/20\n",
            "10752/10752 [==============================] - 26s 2ms/sample - loss: 75332.2468 - acc: 0.8000 - f1: 0.6731\n",
            "Epoch 19/20\n",
            "10752/10752 [==============================] - 26s 2ms/sample - loss: 73438.8666 - acc: 0.8039 - f1: 0.6738\n",
            "Epoch 20/20\n",
            "10752/10752 [==============================] - 26s 2ms/sample - loss: 71721.8132 - acc: 0.8093 - f1: 0.6806\n"
          ],
          "name": "stdout"
        }
      ]
    },
    {
      "cell_type": "code",
      "metadata": {
        "id": "9s-D6eiBXYVo",
        "colab_type": "code",
        "colab": {}
      },
      "source": [
        "\n",
        "m1.save('trial_InputCascade_acc.h5')"
      ],
      "execution_count": 0,
      "outputs": []
    },
    {
      "cell_type": "code",
      "metadata": {
        "id": "GkqCARxZ9Ibp",
        "colab_type": "code",
        "colab": {}
      },
      "source": [
        "import keras.losses\n",
        "keras.losses.custom_loss = f1"
      ],
      "execution_count": 0,
      "outputs": []
    },
    {
      "cell_type": "code",
      "metadata": {
        "id": "0l2ft5Hk4OJt",
        "colab_type": "code",
        "outputId": "f76b18d8-58f2-4e99-ed48-da5838dbb265",
        "colab": {
          "base_uri": "https://localhost:8080/",
          "height": 190
        }
      },
      "source": [
        "m1 = tf.keras.models.load_model('trial_InputCascade_acc.h5', custom_objects={'f1': f1})\n"
      ],
      "execution_count": 0,
      "outputs": [
        {
          "output_type": "stream",
          "text": [
            "WARNING:tensorflow:From /usr/local/lib/python3.6/dist-packages/tensorflow_core/python/ops/init_ops.py:97: calling GlorotUniform.__init__ (from tensorflow.python.ops.init_ops) with dtype is deprecated and will be removed in a future version.\n",
            "Instructions for updating:\n",
            "Call initializer instance with the dtype argument instead of passing it to the constructor\n",
            "WARNING:tensorflow:From /usr/local/lib/python3.6/dist-packages/tensorflow_core/python/ops/init_ops.py:97: calling Zeros.__init__ (from tensorflow.python.ops.init_ops) with dtype is deprecated and will be removed in a future version.\n",
            "Instructions for updating:\n",
            "Call initializer instance with the dtype argument instead of passing it to the constructor\n",
            "WARNING:tensorflow:From /usr/local/lib/python3.6/dist-packages/tensorflow_core/python/ops/init_ops.py:97: calling Ones.__init__ (from tensorflow.python.ops.init_ops) with dtype is deprecated and will be removed in a future version.\n",
            "Instructions for updating:\n",
            "Call initializer instance with the dtype argument instead of passing it to the constructor\n"
          ],
          "name": "stdout"
        }
      ]
    },
    {
      "cell_type": "code",
      "metadata": {
        "id": "22jJSWNTVjjr",
        "colab_type": "code",
        "colab": {}
      },
      "source": [
        "# info = []\n",
        "# for i in range(0,data.shape[0]):\n",
        "#   d = data_gen(data,Y_labels,i,3)\n",
        "#   if(len(d) != 0):\n",
        "#     y = np.zeros((d[2].shape[0],1,1,5))\n",
        "#     for j in range(y.shape[0]):\n",
        "#       y[j,:,:,d[2][j]] = 1\n",
        "#     X1 = d[0]\n",
        "#     X2 = d[1]\n",
        "#     class_weights = class_weight.compute_class_weight('balanced',\n",
        "#                                                       np.unique(d[2]),\n",
        "#                                                       d[2])\n",
        "#     print('slice no:'+str(i))\n",
        "#     info.append(m1.evaluate([X1,X2],y,batch_size=256))"
      ],
      "execution_count": 0,
      "outputs": []
    },
    {
      "cell_type": "code",
      "metadata": {
        "id": "3gEcLsnjP0Qg",
        "colab_type": "code",
        "colab": {}
      },
      "source": [
        ""
      ],
      "execution_count": 0,
      "outputs": []
    },
    {
      "cell_type": "code",
      "metadata": {
        "id": "ZwUbJ6pCqXfL",
        "colab_type": "code",
        "colab": {}
      },
      "source": [
        "import h5py\n",
        "hf = h5py.File('info1_input.h5', 'w')\n",
        "hf.create_dataset('dataset_1', data=info)\n",
        "hf.close()"
      ],
      "execution_count": 0,
      "outputs": []
    },
    {
      "cell_type": "code",
      "metadata": {
        "id": "sC_BQb06JEEq",
        "colab_type": "code",
        "colab": {}
      },
      "source": [
        "hf = h5py.File('info1_input.h5', 'r')\n",
        "X = hf.get('dataset_1')"
      ],
      "execution_count": 0,
      "outputs": []
    },
    {
      "cell_type": "code",
      "metadata": {
        "id": "iIoo1Y-KJBCY",
        "colab_type": "code",
        "colab": {}
      },
      "source": [
        "\n",
        "K.clear_session()"
      ],
      "execution_count": 0,
      "outputs": []
    },
    {
      "cell_type": "code",
      "metadata": {
        "id": "HIL_qdsRShaX",
        "colab_type": "code",
        "outputId": "ec2c216a-3933-4e1d-d68d-a36cb44f3548",
        "colab": {
          "base_uri": "https://localhost:8080/",
          "height": 1000
        }
      },
      "source": [
        "fold = os.listdir('/content/drive/My Drive/BRATS-2/Image_Data/HG/')\n",
        "fold.sort(key=str.lower) \n",
        "fold = fold[:3]\n",
        "for path in fold:\n",
        "    print(path)\n",
        "    path = '/content/drive/My Drive/BRATS-2/Image_Data/HG/'+path\n",
        "    p = os.listdir(path)\n",
        "    p.sort(key=str.lower)\n",
        "    arr = []\n",
        "    \n",
        "    # Reading from 4 images and creating 4 channel slice-wise \n",
        "    for i in range(len(p)):\n",
        "      if 'more' in p[i] or 'OT' in p[i]:\n",
        "        if p[i] != '.DS_Store':\n",
        "          p1 = os.listdir(path+'/'+p[i])\n",
        "          img = sitk.ReadImage(path+'/'+p[i]+'/'+p1[0])\n",
        "          Y_labels = sitk.GetArrayFromImage(img) \n",
        "      else:\n",
        "        if p[i] != '.DS_Store':\n",
        "          p1 = os.listdir(path+'/'+p[i])\n",
        "          p1.sort()\n",
        "          img = sitk.ReadImage(path+'/'+p[i]+'/'+p1[-1])\n",
        "          arr.append(sitk.GetArrayFromImage(img))\n",
        "    data = np.zeros((Y_labels.shape[1],Y_labels.shape[0],Y_labels.shape[2],4))\n",
        "    for i in range(Y_labels.shape[1]):\n",
        "      data[i,:,:,0] = arr[0][:,i,:]\n",
        "      data[i,:,:,1] = arr[1][:,i,:]\n",
        "      data[i,:,:,2] = arr[2][:,i,:]\n",
        "      data[i,:,:,3] = arr[3][:,i,:]\n",
        "    print(data.shape)\n",
        "    info = []\n",
        "    print(data.shape[0])\n",
        "    # Creating patches for each slice and training(slice-wise)\n",
        "    for i in range(data.shape[0]):\n",
        "      d = data_gen(data,Y_labels,i,1)\n",
        "      if(len(d) != 0):\n",
        "        y = np.zeros((d[2].shape[0],1,1,5))\n",
        "        for j in range(y.shape[0]):\n",
        "          y[j,:,:,d[2][j]] = 1\n",
        "        X1 = d[0]\n",
        "        X2 = d[1]\n",
        "        class_weights = class_weight.compute_class_weight('balanced',\n",
        "                                                          np.unique(d[2]),\n",
        "                                                          d[2])\n",
        "        print('slice no:'+str(i))\n",
        "        info.append(m1.fit([X1,X2],y,epochs=5,batch_size=128,class_weight= class_weights))\n",
        "        m1.save('trial_InputCascade_acc_lg001.h5')"
      ],
      "execution_count": 0,
      "outputs": [
        {
          "output_type": "stream",
          "text": [
            "0001\n",
            "(216, 176, 160, 4)\n",
            "216\n",
            "slice no:20\n",
            "Train on 10752 samples\n",
            "Epoch 1/5\n",
            "10752/10752 [==============================] - 34s 3ms/sample - loss: 60201.8048 - acc: 0.6943 - f1: 0.0329\n",
            "Epoch 2/5\n",
            "10752/10752 [==============================] - 27s 3ms/sample - loss: 31972.0254 - acc: 0.8874 - f1: 0.0555\n",
            "Epoch 3/5\n",
            "10752/10752 [==============================] - 27s 3ms/sample - loss: 23352.0498 - acc: 0.9183 - f1: 0.0918\n",
            "Epoch 4/5\n",
            "10752/10752 [==============================] - 27s 3ms/sample - loss: 18700.5515 - acc: 0.9334 - f1: 0.1339\n",
            "Epoch 5/5\n",
            "10752/10752 [==============================] - 27s 3ms/sample - loss: 15798.2945 - acc: 0.9475 - f1: 0.1971\n",
            "slice no:21\n",
            "Train on 10752 samples\n",
            "Epoch 1/5\n",
            "10752/10752 [==============================] - 27s 3ms/sample - loss: 16936.8409 - acc: 0.9509 - f1: 0.6713\n",
            "Epoch 2/5\n",
            "10752/10752 [==============================] - 27s 3ms/sample - loss: 14707.5448 - acc: 0.9578 - f1: 0.9120\n",
            "Epoch 3/5\n",
            "10752/10752 [==============================] - 27s 3ms/sample - loss: 13194.3977 - acc: 0.9614 - f1: 0.9224\n",
            "Epoch 4/5\n",
            "10752/10752 [==============================] - 27s 3ms/sample - loss: 12113.9611 - acc: 0.9670 - f1: 0.9357\n",
            "Epoch 5/5\n",
            "10752/10752 [==============================] - 27s 3ms/sample - loss: 11296.8062 - acc: 0.9687 - f1: 0.9383\n",
            "slice no:22\n",
            "Train on 10752 samples\n",
            "Epoch 1/5\n",
            "10752/10752 [==============================] - 27s 3ms/sample - loss: 15459.5615 - acc: 0.9655 - f1: 0.9367\n",
            "Epoch 2/5\n",
            "10752/10752 [==============================] - 27s 3ms/sample - loss: 14263.2900 - acc: 0.9675 - f1: 0.9407\n",
            "Epoch 3/5\n",
            "10752/10752 [==============================] - 27s 3ms/sample - loss: 13383.7224 - acc: 0.9702 - f1: 0.9434\n",
            "Epoch 4/5\n",
            "10752/10752 [==============================] - 27s 3ms/sample - loss: 12730.1145 - acc: 0.9697 - f1: 0.9488\n",
            "Epoch 5/5\n",
            "10752/10752 [==============================] - 27s 3ms/sample - loss: 12195.6786 - acc: 0.9737 - f1: 0.9515\n",
            "slice no:23\n",
            "Train on 10752 samples\n",
            "Epoch 1/5\n",
            "10752/10752 [==============================] - 27s 3ms/sample - loss: 12845.0870 - acc: 0.9749 - f1: 0.9522\n",
            "Epoch 2/5\n",
            "10752/10752 [==============================] - 27s 3ms/sample - loss: 12149.4378 - acc: 0.9743 - f1: 0.9533\n",
            "Epoch 3/5\n",
            "10752/10752 [==============================] - 27s 3ms/sample - loss: 11629.2598 - acc: 0.9739 - f1: 0.9562\n",
            "Epoch 4/5\n",
            "10752/10752 [==============================] - 27s 3ms/sample - loss: 11210.6159 - acc: 0.9778 - f1: 0.9583\n",
            "Epoch 5/5\n",
            "10752/10752 [==============================] - 27s 3ms/sample - loss: 10862.6115 - acc: 0.9763 - f1: 0.9603\n",
            "slice no:24\n",
            "Train on 10752 samples\n",
            "Epoch 1/5\n",
            "10752/10752 [==============================] - 27s 3ms/sample - loss: 16019.3061 - acc: 0.9769 - f1: 0.9558\n",
            "Epoch 2/5\n",
            "10752/10752 [==============================] - 27s 3ms/sample - loss: 15283.6064 - acc: 0.9790 - f1: 0.9565\n",
            "Epoch 3/5\n",
            "10752/10752 [==============================] - 27s 3ms/sample - loss: 14720.7352 - acc: 0.9772 - f1: 0.9587\n",
            "Epoch 4/5\n",
            "10752/10752 [==============================] - 27s 3ms/sample - loss: 14269.3968 - acc: 0.9794 - f1: 0.9610\n",
            "Epoch 5/5\n",
            "10752/10752 [==============================] - 27s 3ms/sample - loss: 13881.6144 - acc: 0.9808 - f1: 0.9630\n",
            "slice no:25\n",
            "Train on 10752 samples\n",
            "Epoch 1/5\n",
            "10752/10752 [==============================] - 27s 3ms/sample - loss: 13701.7390 - acc: 0.9814 - f1: 0.9646\n",
            "Epoch 2/5\n",
            "10752/10752 [==============================] - 27s 3ms/sample - loss: 13205.7567 - acc: 0.9836 - f1: 0.9661\n",
            "Epoch 3/5\n",
            "10752/10752 [==============================] - 27s 3ms/sample - loss: 12816.3179 - acc: 0.9802 - f1: 0.9640\n",
            "Epoch 4/5\n",
            "10752/10752 [==============================] - 27s 3ms/sample - loss: 12501.7041 - acc: 0.9829 - f1: 0.9675\n",
            "Epoch 5/5\n",
            "10752/10752 [==============================] - 27s 3ms/sample - loss: 12234.5004 - acc: 0.9822 - f1: 0.9667\n",
            "slice no:26\n",
            "Train on 10752 samples\n",
            "Epoch 1/5\n",
            "10752/10752 [==============================] - 27s 3ms/sample - loss: 15985.9972 - acc: 0.9831 - f1: 0.9647\n",
            "Epoch 2/5\n",
            "10752/10752 [==============================] - 27s 3ms/sample - loss: 15524.6997 - acc: 0.9846 - f1: 0.9659\n",
            "Epoch 3/5\n",
            "10752/10752 [==============================] - 27s 3ms/sample - loss: 15165.4750 - acc: 0.9830 - f1: 0.9664\n",
            "Epoch 4/5\n",
            "10752/10752 [==============================] - 27s 3ms/sample - loss: 14858.8517 - acc: 0.9829 - f1: 0.9670\n",
            "Epoch 5/5\n",
            "10752/10752 [==============================] - 27s 3ms/sample - loss: 14591.4538 - acc: 0.9837 - f1: 0.9679\n",
            "slice no:27\n",
            "Train on 10752 samples\n",
            "Epoch 1/5\n",
            "10752/10752 [==============================] - 27s 3ms/sample - loss: 13928.6117 - acc: 0.9860 - f1: 0.9673\n",
            "Epoch 2/5\n",
            "10752/10752 [==============================] - 27s 3ms/sample - loss: 13582.1394 - acc: 0.9853 - f1: 0.9683\n",
            "Epoch 3/5\n",
            "10752/10752 [==============================] - 27s 3ms/sample - loss: 13308.5928 - acc: 0.9854 - f1: 0.9710\n",
            "Epoch 4/5\n",
            "10752/10752 [==============================] - 27s 3ms/sample - loss: 13086.7150 - acc: 0.9851 - f1: 0.9697\n",
            "Epoch 5/5\n",
            "10752/10752 [==============================] - 27s 3ms/sample - loss: 12886.6746 - acc: 0.9860 - f1: 0.9709\n",
            "slice no:28\n",
            "Train on 10752 samples\n",
            "Epoch 1/5\n",
            "10752/10752 [==============================] - 27s 3ms/sample - loss: 17281.4036 - acc: 0.9895 - f1: 0.9728\n",
            "Epoch 2/5\n",
            "10752/10752 [==============================] - 27s 3ms/sample - loss: 16901.0650 - acc: 0.9878 - f1: 0.9712\n",
            "Epoch 3/5\n",
            "10752/10752 [==============================] - 27s 3ms/sample - loss: 16589.3996 - acc: 0.9879 - f1: 0.9726\n",
            "Epoch 4/5\n",
            "10752/10752 [==============================] - 27s 3ms/sample - loss: 16326.1289 - acc: 0.9900 - f1: 0.9744\n",
            "Epoch 5/5\n",
            "10752/10752 [==============================] - 27s 3ms/sample - loss: 16091.0709 - acc: 0.9894 - f1: 0.9727\n",
            "slice no:29\n",
            "Train on 10752 samples\n",
            "Epoch 1/5\n",
            "10752/10752 [==============================] - 27s 3ms/sample - loss: 15573.1854 - acc: 0.9903 - f1: 0.9734\n",
            "Epoch 2/5\n",
            "10752/10752 [==============================] - 27s 3ms/sample - loss: 15295.7204 - acc: 0.9897 - f1: 0.9754\n",
            "Epoch 3/5\n",
            "10752/10752 [==============================] - 27s 3ms/sample - loss: 15070.8426 - acc: 0.9904 - f1: 0.9753\n",
            "Epoch 4/5\n",
            "10752/10752 [==============================] - 27s 3ms/sample - loss: 14870.5730 - acc: 0.9901 - f1: 0.9771\n",
            "Epoch 5/5\n",
            "10752/10752 [==============================] - 27s 3ms/sample - loss: 14689.7156 - acc: 0.9906 - f1: 0.9781\n",
            "slice no:30\n",
            "Train on 10752 samples\n",
            "Epoch 1/5\n",
            "10752/10752 [==============================] - 27s 3ms/sample - loss: 16619.4696 - acc: 0.9920 - f1: 0.9797\n",
            "Epoch 2/5\n",
            "10752/10752 [==============================] - 27s 3ms/sample - loss: 16357.8859 - acc: 0.9918 - f1: 0.9812\n",
            "Epoch 3/5\n",
            "10752/10752 [==============================] - 27s 3ms/sample - loss: 16129.8270 - acc: 0.9919 - f1: 0.9807\n",
            "Epoch 4/5\n",
            "10752/10752 [==============================] - 27s 3ms/sample - loss: 15928.9501 - acc: 0.9923 - f1: 0.9804\n",
            "Epoch 5/5\n",
            "10752/10752 [==============================] - 27s 3ms/sample - loss: 15747.8307 - acc: 0.9943 - f1: 0.9826\n",
            "slice no:31\n",
            "Train on 10752 samples\n",
            "Epoch 1/5\n",
            "10752/10752 [==============================] - 27s 3ms/sample - loss: 15234.7087 - acc: 0.9931 - f1: 0.9824\n",
            "Epoch 2/5\n",
            "10752/10752 [==============================] - 27s 3ms/sample - loss: 15018.6259 - acc: 0.9937 - f1: 0.9835\n",
            "Epoch 3/5\n",
            "10752/10752 [==============================] - 27s 3ms/sample - loss: 14836.0928 - acc: 0.9936 - f1: 0.9841\n",
            "Epoch 4/5\n",
            "10752/10752 [==============================] - 27s 3ms/sample - loss: 14676.5511 - acc: 0.9948 - f1: 0.9853\n",
            "Epoch 5/5\n",
            "10752/10752 [==============================] - 27s 3ms/sample - loss: 14531.9884 - acc: 0.9935 - f1: 0.9851\n",
            "slice no:32\n",
            "Train on 10752 samples\n",
            "Epoch 1/5\n",
            "10752/10752 [==============================] - 27s 3ms/sample - loss: 16482.5716 - acc: 0.9937 - f1: 0.9870\n",
            "Epoch 2/5\n",
            "10752/10752 [==============================] - 27s 3ms/sample - loss: 16243.6903 - acc: 0.9953 - f1: 0.9874\n",
            "Epoch 3/5\n",
            "10752/10752 [==============================] - 27s 3ms/sample - loss: 16045.6565 - acc: 0.9953 - f1: 0.9885\n",
            "Epoch 4/5\n",
            "10752/10752 [==============================] - 27s 3ms/sample - loss: 15867.0409 - acc: 0.9950 - f1: 0.9874\n",
            "Epoch 5/5\n",
            "10752/10752 [==============================] - 27s 3ms/sample - loss: 15706.4846 - acc: 0.9947 - f1: 0.9873\n",
            "slice no:33\n",
            "Train on 10752 samples\n",
            "Epoch 1/5\n",
            "10752/10752 [==============================] - 27s 3ms/sample - loss: 15143.4548 - acc: 0.9942 - f1: 0.9876\n",
            "Epoch 2/5\n",
            "10752/10752 [==============================] - 27s 3ms/sample - loss: 14950.4555 - acc: 0.9942 - f1: 0.9869\n",
            "Epoch 3/5\n",
            "10752/10752 [==============================] - 27s 3ms/sample - loss: 14785.3403 - acc: 0.9953 - f1: 0.9881\n",
            "Epoch 4/5\n",
            "10752/10752 [==============================] - 27s 3ms/sample - loss: 14641.1803 - acc: 0.9960 - f1: 0.9889\n",
            "Epoch 5/5\n",
            "10752/10752 [==============================] - 27s 3ms/sample - loss: 14512.2672 - acc: 0.9950 - f1: 0.9887\n",
            "slice no:34\n",
            "Train on 10752 samples\n",
            "Epoch 1/5\n",
            "10752/10752 [==============================] - 27s 3ms/sample - loss: 15270.6915 - acc: 0.9968 - f1: 0.9905\n",
            "Epoch 2/5\n",
            "10752/10752 [==============================] - 27s 3ms/sample - loss: 15080.5754 - acc: 0.9966 - f1: 0.9894\n",
            "Epoch 3/5\n",
            "10752/10752 [==============================] - 27s 3ms/sample - loss: 14922.3261 - acc: 0.9968 - f1: 0.9911\n",
            "Epoch 4/5\n",
            "10752/10752 [==============================] - 27s 3ms/sample - loss: 14782.1522 - acc: 0.9963 - f1: 0.9895\n",
            "Epoch 5/5\n",
            "10752/10752 [==============================] - 27s 3ms/sample - loss: 14656.3668 - acc: 0.9962 - f1: 0.9912\n",
            "slice no:35\n",
            "Train on 10752 samples\n",
            "Epoch 1/5\n",
            "10752/10752 [==============================] - 27s 3ms/sample - loss: 14069.7918 - acc: 0.9968 - f1: 0.9902\n",
            "Epoch 2/5\n",
            "10752/10752 [==============================] - 27s 3ms/sample - loss: 13922.9678 - acc: 0.9962 - f1: 0.9901\n",
            "Epoch 3/5\n",
            "10752/10752 [==============================] - 27s 3ms/sample - loss: 13796.2364 - acc: 0.9970 - f1: 0.9905\n",
            "Epoch 4/5\n",
            "10752/10752 [==============================] - 27s 3ms/sample - loss: 13680.5032 - acc: 0.9964 - f1: 0.9904\n",
            "Epoch 5/5\n",
            "10752/10752 [==============================] - 27s 3ms/sample - loss: 13575.5640 - acc: 0.9968 - f1: 0.9911\n",
            "slice no:36\n",
            "Train on 10752 samples\n",
            "Epoch 1/5\n",
            "10752/10752 [==============================] - 27s 3ms/sample - loss: 14879.7781 - acc: 0.9974 - f1: 0.9918\n",
            "Epoch 2/5\n",
            "10752/10752 [==============================] - 27s 3ms/sample - loss: 14736.0734 - acc: 0.9966 - f1: 0.9915\n",
            "Epoch 3/5\n",
            "10752/10752 [==============================] - 27s 3ms/sample - loss: 14610.4323 - acc: 0.9976 - f1: 0.9926\n",
            "Epoch 4/5\n",
            "10752/10752 [==============================] - 27s 3ms/sample - loss: 14497.3735 - acc: 0.9980 - f1: 0.9936\n",
            "Epoch 5/5\n",
            "10752/10752 [==============================] - 27s 3ms/sample - loss: 14395.0709 - acc: 0.9973 - f1: 0.9918\n",
            "slice no:37\n",
            "Train on 10752 samples\n",
            "Epoch 1/5\n",
            "10752/10752 [==============================] - 27s 3ms/sample - loss: 13854.8442 - acc: 0.9976 - f1: 0.9927\n",
            "Epoch 2/5\n",
            "10752/10752 [==============================] - 27s 3ms/sample - loss: 13742.0375 - acc: 0.9976 - f1: 0.9922\n",
            "Epoch 3/5\n",
            "10752/10752 [==============================] - 27s 3ms/sample - loss: 13643.7742 - acc: 0.9974 - f1: 0.9917\n",
            "Epoch 4/5\n",
            "10752/10752 [==============================] - 27s 3ms/sample - loss: 13557.9392 - acc: 0.9970 - f1: 0.9927\n",
            "Epoch 5/5\n",
            "10752/10752 [==============================] - 27s 3ms/sample - loss: 13476.0607 - acc: 0.9985 - f1: 0.9930\n",
            "slice no:38\n",
            "Train on 10752 samples\n",
            "Epoch 1/5\n",
            "10752/10752 [==============================] - 27s 3ms/sample - loss: 13833.1576 - acc: 0.9974 - f1: 0.9929\n",
            "Epoch 2/5\n",
            "10752/10752 [==============================] - 27s 3ms/sample - loss: 13717.7756 - acc: 0.9976 - f1: 0.9925\n",
            "Epoch 3/5\n",
            "10752/10752 [==============================] - 27s 3ms/sample - loss: 13619.0986 - acc: 0.9978 - f1: 0.9927\n",
            "Epoch 4/5\n",
            "10752/10752 [==============================] - 27s 3ms/sample - loss: 13531.2175 - acc: 0.9978 - f1: 0.9931\n",
            "Epoch 5/5\n",
            "10752/10752 [==============================] - 27s 3ms/sample - loss: 13448.8397 - acc: 0.9974 - f1: 0.9930\n",
            "slice no:39\n",
            "Train on 10752 samples\n",
            "Epoch 1/5\n",
            "10752/10752 [==============================] - 27s 3ms/sample - loss: 12575.6271 - acc: 0.9976 - f1: 0.9921\n",
            "Epoch 2/5\n",
            "10752/10752 [==============================] - 27s 3ms/sample - loss: 12479.7572 - acc: 0.9981 - f1: 0.9920\n",
            "Epoch 3/5\n",
            "10752/10752 [==============================] - 27s 3ms/sample - loss: 12399.9594 - acc: 0.9982 - f1: 0.9928\n",
            "Epoch 4/5\n",
            "10752/10752 [==============================] - 27s 3ms/sample - loss: 12328.9957 - acc: 0.9982 - f1: 0.9920\n",
            "Epoch 5/5\n",
            "10752/10752 [==============================] - 27s 3ms/sample - loss: 12263.7069 - acc: 0.9979 - f1: 0.9929\n",
            "slice no:40\n",
            "Train on 10752 samples\n",
            "Epoch 1/5\n",
            "10752/10752 [==============================] - 27s 3ms/sample - loss: 13075.5067 - acc: 0.9972 - f1: 0.9930\n",
            "Epoch 2/5\n",
            "10752/10752 [==============================] - 27s 3ms/sample - loss: 12981.8094 - acc: 0.9978 - f1: 0.9934\n",
            "Epoch 3/5\n",
            "10752/10752 [==============================] - 27s 3ms/sample - loss: 12902.2295 - acc: 0.9980 - f1: 0.9937\n",
            "Epoch 4/5\n",
            "10752/10752 [==============================] - 27s 3ms/sample - loss: 12831.0168 - acc: 0.9976 - f1: 0.9930\n",
            "Epoch 5/5\n",
            "10752/10752 [==============================] - 27s 3ms/sample - loss: 12763.1967 - acc: 0.9987 - f1: 0.9948\n",
            "slice no:41\n",
            "Train on 10752 samples\n",
            "Epoch 1/5\n",
            "10752/10752 [==============================] - 27s 3ms/sample - loss: 12215.9389 - acc: 0.9980 - f1: 0.9929\n",
            "Epoch 2/5\n",
            "10752/10752 [==============================] - 27s 3ms/sample - loss: 12135.9619 - acc: 0.9975 - f1: 0.9937\n",
            "Epoch 3/5\n",
            "10752/10752 [==============================] - 27s 3ms/sample - loss: 12069.8383 - acc: 0.9987 - f1: 0.9932\n",
            "Epoch 4/5\n",
            "10752/10752 [==============================] - 27s 3ms/sample - loss: 12006.9891 - acc: 0.9978 - f1: 0.9927\n",
            "Epoch 5/5\n",
            "10752/10752 [==============================] - 27s 3ms/sample - loss: 11947.1839 - acc: 0.9982 - f1: 0.9947\n",
            "slice no:42\n",
            "Train on 10752 samples\n",
            "Epoch 1/5\n",
            "10752/10752 [==============================] - 27s 3ms/sample - loss: 12956.1293 - acc: 0.9985 - f1: 0.9945\n",
            "Epoch 2/5\n",
            "10752/10752 [==============================] - 27s 3ms/sample - loss: 12871.4640 - acc: 0.9993 - f1: 0.9953\n",
            "Epoch 3/5\n",
            "10752/10752 [==============================] - 27s 3ms/sample - loss: 12799.8972 - acc: 0.9986 - f1: 0.9951\n",
            "Epoch 4/5\n",
            "10752/10752 [==============================] - 27s 3ms/sample - loss: 12735.9448 - acc: 0.9979 - f1: 0.9948\n",
            "Epoch 5/5\n",
            "10752/10752 [==============================] - 27s 3ms/sample - loss: 12672.1778 - acc: 0.9986 - f1: 0.9945\n",
            "slice no:43\n",
            "Train on 10752 samples\n",
            "Epoch 1/5\n",
            "10752/10752 [==============================] - 27s 3ms/sample - loss: 12571.6999 - acc: 0.9986 - f1: 0.9950\n",
            "Epoch 2/5\n",
            "10752/10752 [==============================] - 27s 3ms/sample - loss: 12494.0000 - acc: 0.9987 - f1: 0.9952\n",
            "Epoch 3/5\n",
            "10752/10752 [==============================] - 27s 3ms/sample - loss: 12424.1857 - acc: 0.9992 - f1: 0.9949\n",
            "Epoch 4/5\n",
            "10752/10752 [==============================] - 27s 3ms/sample - loss: 12362.0494 - acc: 0.9992 - f1: 0.9949\n",
            "Epoch 5/5\n",
            "10752/10752 [==============================] - 27s 3ms/sample - loss: 12302.4651 - acc: 0.9987 - f1: 0.9953\n",
            "slice no:44\n",
            "Train on 10752 samples\n",
            "Epoch 1/5\n",
            "10752/10752 [==============================] - 27s 3ms/sample - loss: 12916.2243 - acc: 0.9990 - f1: 0.9944\n",
            "Epoch 2/5\n",
            "10752/10752 [==============================] - 27s 3ms/sample - loss: 12830.6049 - acc: 0.9977 - f1: 0.9943\n",
            "Epoch 3/5\n",
            "10752/10752 [==============================] - 27s 3ms/sample - loss: 12756.4071 - acc: 0.9983 - f1: 0.9952\n",
            "Epoch 4/5\n",
            "10752/10752 [==============================] - 27s 3ms/sample - loss: 12688.4828 - acc: 0.9980 - f1: 0.9941\n",
            "Epoch 5/5\n",
            "10752/10752 [==============================] - 27s 3ms/sample - loss: 12623.3001 - acc: 0.9987 - f1: 0.9951\n",
            "slice no:45\n",
            "Train on 10752 samples\n",
            "Epoch 1/5\n",
            "10752/10752 [==============================] - 27s 3ms/sample - loss: 12422.4963 - acc: 0.9986 - f1: 0.9952\n",
            "Epoch 2/5\n",
            "10752/10752 [==============================] - 27s 3ms/sample - loss: 12346.6990 - acc: 0.9991 - f1: 0.9956\n",
            "Epoch 3/5\n",
            "10752/10752 [==============================] - 27s 3ms/sample - loss: 12280.9914 - acc: 0.9985 - f1: 0.9950\n",
            "Epoch 4/5\n",
            "10752/10752 [==============================] - 27s 3ms/sample - loss: 12222.6536 - acc: 0.9988 - f1: 0.9949\n",
            "Epoch 5/5\n",
            "10752/10752 [==============================] - 27s 3ms/sample - loss: 12166.9391 - acc: 0.9991 - f1: 0.9951\n",
            "slice no:46\n",
            "Train on 10752 samples\n",
            "Epoch 1/5\n",
            "10752/10752 [==============================] - 27s 3ms/sample - loss: 12591.4394 - acc: 0.9975 - f1: 0.9952\n",
            "Epoch 2/5\n",
            "10752/10752 [==============================] - 27s 3ms/sample - loss: 12512.8243 - acc: 0.9980 - f1: 0.9960\n",
            "Epoch 3/5\n",
            "10752/10752 [==============================] - 27s 3ms/sample - loss: 12444.8163 - acc: 0.9980 - f1: 0.9952\n",
            "Epoch 4/5\n",
            "10752/10752 [==============================] - 27s 3ms/sample - loss: 12382.5612 - acc: 0.9985 - f1: 0.9949\n",
            "Epoch 5/5\n",
            "10752/10752 [==============================] - 27s 3ms/sample - loss: 12324.8815 - acc: 0.9976 - f1: 0.9949\n",
            "slice no:47\n",
            "Train on 10752 samples\n",
            "Epoch 1/5\n",
            "10752/10752 [==============================] - 27s 3ms/sample - loss: 12034.8414 - acc: 0.9976 - f1: 0.9948\n",
            "Epoch 2/5\n",
            "10752/10752 [==============================] - 27s 3ms/sample - loss: 11970.8140 - acc: 0.9982 - f1: 0.9956\n",
            "Epoch 3/5\n",
            "10752/10752 [==============================] - 27s 3ms/sample - loss: 11915.5851 - acc: 0.9984 - f1: 0.9956\n",
            "Epoch 4/5\n",
            "10752/10752 [==============================] - 27s 3ms/sample - loss: 11863.7143 - acc: 0.9989 - f1: 0.9963\n",
            "Epoch 5/5\n",
            "10752/10752 [==============================] - 27s 3ms/sample - loss: 11815.7137 - acc: 0.9990 - f1: 0.9953\n",
            "slice no:48\n",
            "Train on 10752 samples\n",
            "Epoch 1/5\n",
            "10752/10752 [==============================] - 27s 3ms/sample - loss: 12684.3014 - acc: 0.9984 - f1: 0.9953\n",
            "Epoch 2/5\n",
            "10752/10752 [==============================] - 27s 3ms/sample - loss: 12617.7395 - acc: 0.9985 - f1: 0.9964\n",
            "Epoch 3/5\n",
            "10752/10752 [==============================] - 27s 3ms/sample - loss: 12558.8901 - acc: 0.9979 - f1: 0.9956\n",
            "Epoch 4/5\n",
            "10752/10752 [==============================] - 27s 3ms/sample - loss: 12503.4374 - acc: 0.9981 - f1: 0.9958\n",
            "Epoch 5/5\n",
            "10752/10752 [==============================] - 27s 3ms/sample - loss: 12451.3150 - acc: 0.9984 - f1: 0.9952\n",
            "slice no:49\n",
            "Train on 10752 samples\n",
            "Epoch 1/5\n",
            "10752/10752 [==============================] - 27s 3ms/sample - loss: 12429.9764 - acc: 0.9987 - f1: 0.9962\n",
            "Epoch 2/5\n",
            "10752/10752 [==============================] - 27s 3ms/sample - loss: 12366.4596 - acc: 0.9985 - f1: 0.9959\n",
            "Epoch 3/5\n",
            "10752/10752 [==============================] - 27s 3ms/sample - loss: 12312.7700 - acc: 0.9987 - f1: 0.9960\n",
            "Epoch 4/5\n",
            "10752/10752 [==============================] - 27s 3ms/sample - loss: 12261.4916 - acc: 0.9992 - f1: 0.9965\n",
            "Epoch 5/5\n",
            "10752/10752 [==============================] - 27s 3ms/sample - loss: 12213.5363 - acc: 0.9982 - f1: 0.9960\n",
            "slice no:50\n",
            "Train on 10752 samples\n",
            "Epoch 1/5\n",
            "10752/10752 [==============================] - 27s 3ms/sample - loss: 12400.4710 - acc: 0.9988 - f1: 0.9965\n",
            "Epoch 2/5\n",
            "10752/10752 [==============================] - 27s 3ms/sample - loss: 12342.6200 - acc: 0.9990 - f1: 0.9959\n",
            "Epoch 3/5\n",
            "10752/10752 [==============================] - 27s 3ms/sample - loss: 12291.3008 - acc: 0.9988 - f1: 0.9955\n",
            "Epoch 4/5\n",
            "10752/10752 [==============================] - 27s 3ms/sample - loss: 12244.7169 - acc: 0.9986 - f1: 0.9958\n",
            "Epoch 5/5\n",
            "10752/10752 [==============================] - 27s 3ms/sample - loss: 12201.0562 - acc: 0.9989 - f1: 0.9962\n",
            "slice no:51\n",
            "Train on 10752 samples\n",
            "Epoch 1/5\n",
            "10752/10752 [==============================] - 27s 3ms/sample - loss: 11823.6069 - acc: 0.9974 - f1: 0.9950\n",
            "Epoch 2/5\n",
            "10752/10752 [==============================] - 27s 3ms/sample - loss: 11771.2308 - acc: 0.9983 - f1: 0.9955\n",
            "Epoch 3/5\n",
            "10752/10752 [==============================] - 27s 3ms/sample - loss: 11724.5118 - acc: 0.9980 - f1: 0.9956\n",
            "Epoch 4/5\n",
            "10752/10752 [==============================] - 27s 3ms/sample - loss: 11681.9775 - acc: 0.9981 - f1: 0.9956\n",
            "Epoch 5/5\n",
            "10752/10752 [==============================] - 27s 3ms/sample - loss: 11642.2361 - acc: 0.9981 - f1: 0.9953\n",
            "slice no:52\n",
            "Train on 10752 samples\n",
            "Epoch 1/5\n",
            "10752/10752 [==============================] - 27s 3ms/sample - loss: 11261.8885 - acc: 0.9977 - f1: 0.9943\n",
            "Epoch 2/5\n",
            "10752/10752 [==============================] - 27s 3ms/sample - loss: 11212.9979 - acc: 0.9980 - f1: 0.9948\n",
            "Epoch 3/5\n",
            "10752/10752 [==============================] - 27s 3ms/sample - loss: 11170.4878 - acc: 0.9977 - f1: 0.9943\n",
            "Epoch 4/5\n",
            "10752/10752 [==============================] - 27s 3ms/sample - loss: 11131.6319 - acc: 0.9976 - f1: 0.9947\n",
            "Epoch 5/5\n",
            "10752/10752 [==============================] - 27s 3ms/sample - loss: 11093.9791 - acc: 0.9980 - f1: 0.9950\n",
            "slice no:53\n",
            "Train on 10752 samples\n",
            "Epoch 1/5\n",
            "10752/10752 [==============================] - 27s 3ms/sample - loss: 10959.0975 - acc: 0.9974 - f1: 0.9943\n",
            "Epoch 2/5\n",
            "10752/10752 [==============================] - 27s 3ms/sample - loss: 10915.2354 - acc: 0.9980 - f1: 0.9944\n",
            "Epoch 3/5\n",
            "10752/10752 [==============================] - 27s 3ms/sample - loss: 10875.7565 - acc: 0.9969 - f1: 0.9941\n",
            "Epoch 4/5\n",
            "10752/10752 [==============================] - 27s 3ms/sample - loss: 10838.9041 - acc: 0.9973 - f1: 0.9943\n",
            "Epoch 5/5\n",
            "10752/10752 [==============================] - 27s 3ms/sample - loss: 10805.7703 - acc: 0.9987 - f1: 0.9960\n",
            "slice no:54\n",
            "Train on 10752 samples\n",
            "Epoch 1/5\n",
            "10752/10752 [==============================] - 27s 3ms/sample - loss: 11127.7463 - acc: 0.9967 - f1: 0.9939\n",
            "Epoch 2/5\n",
            "10752/10752 [==============================] - 27s 3ms/sample - loss: 11079.5061 - acc: 0.9978 - f1: 0.9947\n",
            "Epoch 3/5\n",
            "10752/10752 [==============================] - 27s 3ms/sample - loss: 11036.8596 - acc: 0.9974 - f1: 0.9942\n",
            "Epoch 4/5\n",
            "10752/10752 [==============================] - 27s 3ms/sample - loss: 10997.5174 - acc: 0.9973 - f1: 0.9949\n",
            "Epoch 5/5\n",
            "10752/10752 [==============================] - 27s 3ms/sample - loss: 10961.1980 - acc: 0.9974 - f1: 0.9950\n",
            "slice no:55\n",
            "Train on 10752 samples\n",
            "Epoch 1/5\n",
            "10752/10752 [==============================] - 27s 3ms/sample - loss: 11059.2281 - acc: 0.9961 - f1: 0.9925\n",
            "Epoch 2/5\n",
            "10752/10752 [==============================] - 27s 3ms/sample - loss: 11010.2515 - acc: 0.9965 - f1: 0.9934\n",
            "Epoch 3/5\n",
            "10752/10752 [==============================] - 27s 3ms/sample - loss: 10968.6452 - acc: 0.9961 - f1: 0.9930\n",
            "Epoch 4/5\n",
            "10752/10752 [==============================] - 27s 3ms/sample - loss: 10930.6873 - acc: 0.9971 - f1: 0.9939\n",
            "Epoch 5/5\n",
            "10752/10752 [==============================] - 27s 3ms/sample - loss: 10895.3593 - acc: 0.9961 - f1: 0.9930\n",
            "slice no:56\n",
            "Train on 10752 samples\n",
            "Epoch 1/5\n",
            "10752/10752 [==============================] - 27s 3ms/sample - loss: 11301.9119 - acc: 0.9966 - f1: 0.9927\n",
            "Epoch 2/5\n",
            "10752/10752 [==============================] - 27s 3ms/sample - loss: 11251.5075 - acc: 0.9959 - f1: 0.9926\n",
            "Epoch 3/5\n",
            "10752/10752 [==============================] - 27s 3ms/sample - loss: 11209.3854 - acc: 0.9961 - f1: 0.9936\n",
            "Epoch 4/5\n",
            "10752/10752 [==============================] - 27s 3ms/sample - loss: 11170.3178 - acc: 0.9959 - f1: 0.9933\n",
            "Epoch 5/5\n",
            "10752/10752 [==============================] - 27s 3ms/sample - loss: 11133.1524 - acc: 0.9954 - f1: 0.9918\n",
            "slice no:57\n",
            "Train on 10752 samples\n",
            "Epoch 1/5\n",
            "10752/10752 [==============================] - 27s 3ms/sample - loss: 11446.4827 - acc: 0.9946 - f1: 0.9920\n",
            "Epoch 2/5\n",
            "10752/10752 [==============================] - 27s 3ms/sample - loss: 11398.9340 - acc: 0.9952 - f1: 0.9925\n",
            "Epoch 3/5\n",
            "10752/10752 [==============================] - 27s 3ms/sample - loss: 11359.2197 - acc: 0.9944 - f1: 0.9920\n",
            "Epoch 4/5\n",
            "10752/10752 [==============================] - 27s 3ms/sample - loss: 11322.3638 - acc: 0.9953 - f1: 0.9920\n",
            "Epoch 5/5\n",
            "10752/10752 [==============================] - 27s 3ms/sample - loss: 11286.4349 - acc: 0.9946 - f1: 0.9928\n",
            "slice no:58\n",
            "Train on 10752 samples\n",
            "Epoch 1/5\n",
            "10752/10752 [==============================] - 27s 3ms/sample - loss: 11707.0351 - acc: 0.9944 - f1: 0.9924\n",
            "Epoch 2/5\n",
            "10752/10752 [==============================] - 27s 3ms/sample - loss: 11660.2776 - acc: 0.9936 - f1: 0.9910\n",
            "Epoch 3/5\n",
            "10752/10752 [==============================] - 27s 3ms/sample - loss: 11617.9363 - acc: 0.9947 - f1: 0.9916\n",
            "Epoch 4/5\n",
            "10752/10752 [==============================] - 27s 3ms/sample - loss: 11580.1539 - acc: 0.9943 - f1: 0.9920\n",
            "Epoch 5/5\n",
            "10752/10752 [==============================] - 27s 3ms/sample - loss: 11544.3337 - acc: 0.9941 - f1: 0.9919\n",
            "slice no:59\n",
            "Train on 10752 samples\n",
            "Epoch 1/5\n",
            "10752/10752 [==============================] - 27s 3ms/sample - loss: 12534.1230 - acc: 0.9891 - f1: 0.9877\n",
            "Epoch 2/5\n",
            "10752/10752 [==============================] - 27s 3ms/sample - loss: 12482.8262 - acc: 0.9906 - f1: 0.9885\n",
            "Epoch 3/5\n",
            "10752/10752 [==============================] - 27s 3ms/sample - loss: 12438.2653 - acc: 0.9889 - f1: 0.9865\n",
            "Epoch 4/5\n",
            "10752/10752 [==============================] - 27s 3ms/sample - loss: 12396.3240 - acc: 0.9905 - f1: 0.9885\n",
            "Epoch 5/5\n",
            "10752/10752 [==============================] - 27s 3ms/sample - loss: 12357.0975 - acc: 0.9906 - f1: 0.9884\n",
            "slice no:60\n",
            "Train on 10752 samples\n",
            "Epoch 1/5\n",
            "10752/10752 [==============================] - 27s 3ms/sample - loss: 13147.5798 - acc: 0.9871 - f1: 0.9856\n",
            "Epoch 2/5\n",
            "10752/10752 [==============================] - 27s 3ms/sample - loss: 13090.3785 - acc: 0.9887 - f1: 0.9859\n",
            "Epoch 3/5\n",
            "10752/10752 [==============================] - 27s 3ms/sample - loss: 13039.6920 - acc: 0.9858 - f1: 0.9840\n",
            "Epoch 4/5\n",
            "10752/10752 [==============================] - 27s 3ms/sample - loss: 12993.5583 - acc: 0.9864 - f1: 0.9845\n",
            "Epoch 5/5\n",
            "10752/10752 [==============================] - 27s 3ms/sample - loss: 12949.5257 - acc: 0.9866 - f1: 0.9851\n",
            "slice no:61\n",
            "Train on 10752 samples\n",
            "Epoch 1/5\n",
            "10752/10752 [==============================] - 27s 3ms/sample - loss: 12591.0223 - acc: 0.9834 - f1: 0.9812\n",
            "Epoch 2/5\n",
            "10752/10752 [==============================] - 27s 3ms/sample - loss: 12538.4214 - acc: 0.9820 - f1: 0.9800\n",
            "Epoch 3/5\n",
            "10752/10752 [==============================] - 27s 3ms/sample - loss: 12491.1638 - acc: 0.9833 - f1: 0.9810\n",
            "Epoch 4/5\n",
            "10752/10752 [==============================] - 27s 3ms/sample - loss: 12447.8477 - acc: 0.9818 - f1: 0.9800\n",
            "Epoch 5/5\n",
            "10752/10752 [==============================] - 27s 3ms/sample - loss: 12407.1322 - acc: 0.9821 - f1: 0.9804\n",
            "slice no:62\n",
            "Train on 10752 samples\n",
            "Epoch 1/5\n",
            "10752/10752 [==============================] - 27s 3ms/sample - loss: 13459.6750 - acc: 0.9766 - f1: 0.9738\n",
            "Epoch 2/5\n",
            "10752/10752 [==============================] - 27s 3ms/sample - loss: 13404.4360 - acc: 0.9753 - f1: 0.9729\n",
            "Epoch 3/5\n",
            "10752/10752 [==============================] - 27s 3ms/sample - loss: 13357.6133 - acc: 0.9757 - f1: 0.9729\n",
            "Epoch 4/5\n",
            "10752/10752 [==============================] - 27s 3ms/sample - loss: 13312.3006 - acc: 0.9742 - f1: 0.9724\n",
            "Epoch 5/5\n",
            "10752/10752 [==============================] - 27s 3ms/sample - loss: 13268.1748 - acc: 0.9767 - f1: 0.9731\n",
            "slice no:63\n",
            "Train on 10752 samples\n",
            "Epoch 1/5\n",
            "10752/10752 [==============================] - 27s 3ms/sample - loss: 13489.5244 - acc: 0.9665 - f1: 0.9647\n",
            "Epoch 2/5\n",
            "10752/10752 [==============================] - 27s 3ms/sample - loss: 13432.3153 - acc: 0.9662 - f1: 0.9634\n",
            "Epoch 3/5\n",
            "10752/10752 [==============================] - 27s 3ms/sample - loss: 13383.9918 - acc: 0.9664 - f1: 0.9654\n",
            "Epoch 4/5\n",
            "10752/10752 [==============================] - 27s 3ms/sample - loss: 13339.4217 - acc: 0.9663 - f1: 0.9646\n",
            "Epoch 5/5\n",
            "10752/10752 [==============================] - 27s 3ms/sample - loss: 13296.8548 - acc: 0.9666 - f1: 0.9643\n",
            "slice no:64\n",
            "Train on 10752 samples\n",
            "Epoch 1/5\n",
            "10752/10752 [==============================] - 27s 3ms/sample - loss: 14683.7320 - acc: 0.9576 - f1: 0.9552\n",
            "Epoch 2/5\n",
            "10752/10752 [==============================] - 27s 3ms/sample - loss: 14622.2260 - acc: 0.9566 - f1: 0.9550\n",
            "Epoch 3/5\n",
            "10752/10752 [==============================] - 27s 3ms/sample - loss: 14568.0510 - acc: 0.9578 - f1: 0.9567\n",
            "Epoch 4/5\n",
            "10752/10752 [==============================] - 27s 3ms/sample - loss: 14516.2851 - acc: 0.9531 - f1: 0.9530\n",
            "Epoch 5/5\n",
            "10752/10752 [==============================] - 27s 3ms/sample - loss: 14468.2770 - acc: 0.9557 - f1: 0.9537\n",
            "slice no:65\n",
            "Train on 10752 samples\n",
            "Epoch 1/5\n",
            "10752/10752 [==============================] - 27s 3ms/sample - loss: 14938.1375 - acc: 0.9468 - f1: 0.9461\n",
            "Epoch 2/5\n",
            "10752/10752 [==============================] - 27s 3ms/sample - loss: 14869.7342 - acc: 0.9477 - f1: 0.9457\n",
            "Epoch 3/5\n",
            "10752/10752 [==============================] - 27s 3ms/sample - loss: 14808.5537 - acc: 0.9463 - f1: 0.9466\n",
            "Epoch 4/5\n",
            "10752/10752 [==============================] - 27s 3ms/sample - loss: 14752.4316 - acc: 0.9472 - f1: 0.9465\n",
            "Epoch 5/5\n",
            "10752/10752 [==============================] - 27s 3ms/sample - loss: 14699.7376 - acc: 0.9488 - f1: 0.9458\n",
            "slice no:66\n",
            "Train on 10752 samples\n",
            "Epoch 1/5\n",
            "10752/10752 [==============================] - 27s 3ms/sample - loss: 14721.6319 - acc: 0.9432 - f1: 0.9422\n",
            "Epoch 2/5\n",
            "10752/10752 [==============================] - 27s 3ms/sample - loss: 14658.7196 - acc: 0.9430 - f1: 0.9425\n",
            "Epoch 3/5\n",
            "10752/10752 [==============================] - 27s 3ms/sample - loss: 14603.4526 - acc: 0.9432 - f1: 0.9427\n",
            "Epoch 4/5\n",
            "10752/10752 [==============================] - 27s 3ms/sample - loss: 14552.2530 - acc: 0.9447 - f1: 0.9446\n",
            "Epoch 5/5\n",
            "10752/10752 [==============================] - 27s 3ms/sample - loss: 14503.0600 - acc: 0.9411 - f1: 0.9417\n",
            "slice no:67\n",
            "Train on 10752 samples\n",
            "Epoch 1/5\n",
            "10752/10752 [==============================] - 27s 3ms/sample - loss: 14477.5859 - acc: 0.9360 - f1: 0.9356\n",
            "Epoch 2/5\n",
            "10752/10752 [==============================] - 27s 3ms/sample - loss: 14418.9777 - acc: 0.9362 - f1: 0.9365\n",
            "Epoch 3/5\n",
            "10752/10752 [==============================] - 27s 3ms/sample - loss: 14367.3221 - acc: 0.9370 - f1: 0.9370\n",
            "Epoch 4/5\n",
            "10752/10752 [==============================] - 27s 3ms/sample - loss: 14318.0779 - acc: 0.9381 - f1: 0.9376\n",
            "Epoch 5/5\n",
            "10752/10752 [==============================] - 27s 3ms/sample - loss: 14270.9227 - acc: 0.9361 - f1: 0.9353\n",
            "slice no:68\n",
            "Train on 10752 samples\n",
            "Epoch 1/5\n",
            "10752/10752 [==============================] - 27s 3ms/sample - loss: 14585.6361 - acc: 0.9326 - f1: 0.9320\n",
            "Epoch 2/5\n",
            "10752/10752 [==============================] - 27s 3ms/sample - loss: 14529.5463 - acc: 0.9327 - f1: 0.9324\n",
            "Epoch 3/5\n",
            "10752/10752 [==============================] - 27s 3ms/sample - loss: 14478.7124 - acc: 0.9331 - f1: 0.9339\n",
            "Epoch 4/5\n",
            "10752/10752 [==============================] - 27s 3ms/sample - loss: 14431.6707 - acc: 0.9342 - f1: 0.9347\n",
            "Epoch 5/5\n",
            "10752/10752 [==============================] - 27s 3ms/sample - loss: 14387.5627 - acc: 0.9353 - f1: 0.9339\n",
            "slice no:69\n",
            "Train on 10752 samples\n",
            "Epoch 1/5\n",
            "10752/10752 [==============================] - 27s 3ms/sample - loss: 14347.8904 - acc: 0.9297 - f1: 0.9294\n",
            "Epoch 2/5\n",
            "10752/10752 [==============================] - 27s 3ms/sample - loss: 14294.5463 - acc: 0.9298 - f1: 0.9307\n",
            "Epoch 3/5\n",
            "10752/10752 [==============================] - 27s 3ms/sample - loss: 14248.2229 - acc: 0.9267 - f1: 0.9296\n",
            "Epoch 4/5\n",
            "10752/10752 [==============================] - 27s 3ms/sample - loss: 14205.1446 - acc: 0.9275 - f1: 0.9295\n",
            "Epoch 5/5\n",
            "10752/10752 [==============================] - 27s 3ms/sample - loss: 14162.9699 - acc: 0.9296 - f1: 0.9300\n",
            "slice no:70\n",
            "Train on 10752 samples\n",
            "Epoch 1/5\n",
            "10752/10752 [==============================] - 27s 3ms/sample - loss: 14611.0990 - acc: 0.9222 - f1: 0.9229\n",
            "Epoch 2/5\n",
            "10752/10752 [==============================] - 27s 3ms/sample - loss: 14558.5755 - acc: 0.9221 - f1: 0.9222\n",
            "Epoch 3/5\n",
            "10752/10752 [==============================] - 27s 3ms/sample - loss: 14511.5251 - acc: 0.9222 - f1: 0.9247\n",
            "Epoch 4/5\n",
            "10752/10752 [==============================] - 27s 3ms/sample - loss: 14467.3227 - acc: 0.9241 - f1: 0.9240\n",
            "Epoch 5/5\n",
            "10752/10752 [==============================] - 27s 3ms/sample - loss: 14426.0415 - acc: 0.9222 - f1: 0.9225\n",
            "slice no:71\n",
            "Train on 10752 samples\n",
            "Epoch 1/5\n",
            "10752/10752 [==============================] - 27s 3ms/sample - loss: 14157.8503 - acc: 0.9171 - f1: 0.9177\n",
            "Epoch 2/5\n",
            "10752/10752 [==============================] - 27s 3ms/sample - loss: 14104.2336 - acc: 0.9173 - f1: 0.9185\n",
            "Epoch 3/5\n",
            "10752/10752 [==============================] - 27s 3ms/sample - loss: 14058.0479 - acc: 0.9194 - f1: 0.9189\n",
            "Epoch 4/5\n",
            "10752/10752 [==============================] - 27s 3ms/sample - loss: 14016.7044 - acc: 0.9194 - f1: 0.9190\n",
            "Epoch 5/5\n",
            "10752/10752 [==============================] - 27s 3ms/sample - loss: 13976.7150 - acc: 0.9170 - f1: 0.9183\n",
            "slice no:72\n",
            "Train on 10752 samples\n",
            "Epoch 1/5\n",
            "10752/10752 [==============================] - 27s 3ms/sample - loss: 14489.1310 - acc: 0.9135 - f1: 0.9133\n",
            "Epoch 2/5\n",
            "10752/10752 [==============================] - 27s 3ms/sample - loss: 14435.6418 - acc: 0.9137 - f1: 0.9150\n",
            "Epoch 3/5\n",
            "10752/10752 [==============================] - 27s 3ms/sample - loss: 14390.2310 - acc: 0.9156 - f1: 0.9147\n",
            "Epoch 4/5\n",
            "10752/10752 [==============================] - 27s 3ms/sample - loss: 14346.0935 - acc: 0.9151 - f1: 0.9140\n",
            "Epoch 5/5\n",
            "10752/10752 [==============================] - 27s 3ms/sample - loss: 14304.3182 - acc: 0.9147 - f1: 0.9147\n",
            "slice no:73\n",
            "Train on 10752 samples\n",
            "Epoch 1/5\n",
            "10752/10752 [==============================] - 27s 3ms/sample - loss: 14311.4513 - acc: 0.9102 - f1: 0.9097\n",
            "Epoch 2/5\n",
            "10752/10752 [==============================] - 27s 3ms/sample - loss: 14260.3480 - acc: 0.9095 - f1: 0.9090\n",
            "Epoch 3/5\n",
            "10752/10752 [==============================] - 27s 3ms/sample - loss: 14215.6851 - acc: 0.9108 - f1: 0.9109\n",
            "Epoch 4/5\n",
            "10752/10752 [==============================] - 27s 3ms/sample - loss: 14173.6981 - acc: 0.9084 - f1: 0.9093\n",
            "Epoch 5/5\n",
            "10752/10752 [==============================] - 27s 3ms/sample - loss: 14135.2026 - acc: 0.9118 - f1: 0.9127\n",
            "slice no:74\n",
            "Train on 10752 samples\n",
            "Epoch 1/5\n",
            "10752/10752 [==============================] - 27s 3ms/sample - loss: 14901.4030 - acc: 0.9024 - f1: 0.9015\n",
            "Epoch 2/5\n",
            "10752/10752 [==============================] - 27s 3ms/sample - loss: 14846.2551 - acc: 0.9026 - f1: 0.9017\n",
            "Epoch 3/5\n",
            "10752/10752 [==============================] - 27s 3ms/sample - loss: 14796.1008 - acc: 0.9027 - f1: 0.9020\n",
            "Epoch 4/5\n",
            "10752/10752 [==============================] - 27s 3ms/sample - loss: 14748.9423 - acc: 0.9040 - f1: 0.9031\n",
            "Epoch 5/5\n",
            "10752/10752 [==============================] - 27s 3ms/sample - loss: 14704.7768 - acc: 0.9033 - f1: 0.9013\n",
            "slice no:75\n",
            "Train on 10752 samples\n",
            "Epoch 1/5\n",
            "10752/10752 [==============================] - 27s 3ms/sample - loss: 14764.6435 - acc: 0.8996 - f1: 0.8974\n",
            "Epoch 2/5\n",
            "10752/10752 [==============================] - 27s 3ms/sample - loss: 14711.3435 - acc: 0.8977 - f1: 0.8964\n",
            "Epoch 3/5\n",
            "10752/10752 [==============================] - 27s 3ms/sample - loss: 14663.7526 - acc: 0.9004 - f1: 0.8993\n",
            "Epoch 4/5\n",
            "10752/10752 [==============================] - 27s 3ms/sample - loss: 14619.0462 - acc: 0.8982 - f1: 0.8977\n",
            "Epoch 5/5\n",
            "10752/10752 [==============================] - 27s 3ms/sample - loss: 14576.5299 - acc: 0.8982 - f1: 0.8973\n",
            "slice no:76\n",
            "Train on 10752 samples\n",
            "Epoch 1/5\n",
            "10752/10752 [==============================] - 27s 3ms/sample - loss: 15174.8108 - acc: 0.8935 - f1: 0.8903\n",
            "Epoch 2/5\n",
            "10752/10752 [==============================] - 27s 3ms/sample - loss: 15116.0983 - acc: 0.8939 - f1: 0.8919\n",
            "Epoch 3/5\n",
            "10752/10752 [==============================] - 27s 3ms/sample - loss: 15063.2812 - acc: 0.8935 - f1: 0.8910\n",
            "Epoch 4/5\n",
            "10752/10752 [==============================] - 27s 3ms/sample - loss: 15013.5206 - acc: 0.8939 - f1: 0.8919\n",
            "Epoch 5/5\n",
            "10752/10752 [==============================] - 27s 3ms/sample - loss: 14966.6424 - acc: 0.8930 - f1: 0.8914\n",
            "slice no:77\n",
            "Train on 10752 samples\n",
            "Epoch 1/5\n",
            "10752/10752 [==============================] - 27s 3ms/sample - loss: 14760.4007 - acc: 0.8892 - f1: 0.8878\n",
            "Epoch 2/5\n",
            "10752/10752 [==============================] - 27s 3ms/sample - loss: 14706.8196 - acc: 0.8911 - f1: 0.8893\n",
            "Epoch 3/5\n",
            "10752/10752 [==============================] - 27s 3ms/sample - loss: 14658.3706 - acc: 0.8900 - f1: 0.8882\n",
            "Epoch 4/5\n",
            "10752/10752 [==============================] - 27s 3ms/sample - loss: 14613.3325 - acc: 0.8907 - f1: 0.8887\n",
            "Epoch 5/5\n",
            "10752/10752 [==============================] - 27s 3ms/sample - loss: 14571.4615 - acc: 0.8904 - f1: 0.8892\n",
            "slice no:78\n",
            "Train on 10752 samples\n",
            "Epoch 1/5\n",
            "10752/10752 [==============================] - 27s 3ms/sample - loss: 14951.1158 - acc: 0.8851 - f1: 0.8853\n",
            "Epoch 2/5\n",
            "10752/10752 [==============================] - 27s 3ms/sample - loss: 14901.5639 - acc: 0.8876 - f1: 0.8849\n",
            "Epoch 3/5\n",
            "10752/10752 [==============================] - 27s 3ms/sample - loss: 14856.6729 - acc: 0.8860 - f1: 0.8860\n",
            "Epoch 4/5\n",
            "10752/10752 [==============================] - 27s 3ms/sample - loss: 14815.1455 - acc: 0.8867 - f1: 0.8855\n",
            "Epoch 5/5\n",
            "10752/10752 [==============================] - 27s 3ms/sample - loss: 14776.2934 - acc: 0.8867 - f1: 0.8855\n",
            "slice no:79\n",
            "Train on 10752 samples\n",
            "Epoch 1/5\n",
            "10752/10752 [==============================] - 27s 3ms/sample - loss: 14979.6439 - acc: 0.8836 - f1: 0.8816\n",
            "Epoch 2/5\n",
            "10752/10752 [==============================] - 27s 3ms/sample - loss: 14932.2669 - acc: 0.8840 - f1: 0.8823\n",
            "Epoch 3/5\n",
            "10752/10752 [==============================] - 27s 3ms/sample - loss: 14889.4990 - acc: 0.8845 - f1: 0.8823\n",
            "Epoch 4/5\n",
            "10752/10752 [==============================] - 27s 3ms/sample - loss: 14849.8420 - acc: 0.8850 - f1: 0.8835\n",
            "Epoch 5/5\n",
            "10752/10752 [==============================] - 27s 3ms/sample - loss: 14812.4499 - acc: 0.8840 - f1: 0.8829\n",
            "slice no:80\n",
            "Train on 10752 samples\n",
            "Epoch 1/5\n",
            "10752/10752 [==============================] - 27s 3ms/sample - loss: 15268.5384 - acc: 0.8829 - f1: 0.8815\n",
            "Epoch 2/5\n",
            "10752/10752 [==============================] - 27s 3ms/sample - loss: 15219.2699 - acc: 0.8813 - f1: 0.8792\n",
            "Epoch 3/5\n",
            "10752/10752 [==============================] - 27s 3ms/sample - loss: 15176.2202 - acc: 0.8812 - f1: 0.8795\n",
            "Epoch 4/5\n",
            "10752/10752 [==============================] - 27s 3ms/sample - loss: 15135.2129 - acc: 0.8816 - f1: 0.8806\n",
            "Epoch 5/5\n",
            "10752/10752 [==============================] - 27s 3ms/sample - loss: 15096.6610 - acc: 0.8822 - f1: 0.8808\n",
            "slice no:81\n",
            "Train on 10752 samples\n",
            "Epoch 1/5\n",
            "10752/10752 [==============================] - 27s 3ms/sample - loss: 15420.7117 - acc: 0.8778 - f1: 0.8757\n",
            "Epoch 2/5\n",
            "10752/10752 [==============================] - 27s 3ms/sample - loss: 15375.8499 - acc: 0.8790 - f1: 0.8773\n",
            "Epoch 3/5\n",
            "10752/10752 [==============================] - 27s 3ms/sample - loss: 15334.6982 - acc: 0.8780 - f1: 0.8763\n",
            "Epoch 4/5\n",
            "10752/10752 [==============================] - 27s 3ms/sample - loss: 15296.1866 - acc: 0.8779 - f1: 0.8777\n",
            "Epoch 5/5\n",
            "10752/10752 [==============================] - 27s 3ms/sample - loss: 15260.0211 - acc: 0.8801 - f1: 0.8779\n",
            "slice no:82\n",
            "Train on 10752 samples\n",
            "Epoch 1/5\n",
            "10752/10752 [==============================] - 27s 3ms/sample - loss: 15376.1002 - acc: 0.8746 - f1: 0.8706\n",
            "Epoch 2/5\n",
            "10752/10752 [==============================] - 27s 3ms/sample - loss: 15330.9482 - acc: 0.8734 - f1: 0.8724\n",
            "Epoch 3/5\n",
            "10752/10752 [==============================] - 27s 3ms/sample - loss: 15291.5938 - acc: 0.8746 - f1: 0.8735\n",
            "Epoch 4/5\n",
            "10752/10752 [==============================] - 27s 3ms/sample - loss: 15254.8763 - acc: 0.8757 - f1: 0.8730\n",
            "Epoch 5/5\n",
            "10752/10752 [==============================] - 27s 3ms/sample - loss: 15220.2576 - acc: 0.8745 - f1: 0.8723\n",
            "slice no:83\n",
            "Train on 10752 samples\n",
            "Epoch 1/5\n",
            "10752/10752 [==============================] - 27s 3ms/sample - loss: 15118.3655 - acc: 0.8704 - f1: 0.8683\n",
            "Epoch 2/5\n",
            "10752/10752 [==============================] - 27s 3ms/sample - loss: 15076.8232 - acc: 0.8732 - f1: 0.8711\n",
            "Epoch 3/5\n",
            "10752/10752 [==============================] - 27s 3ms/sample - loss: 15039.5035 - acc: 0.8722 - f1: 0.8695\n",
            "Epoch 4/5\n",
            "10752/10752 [==============================] - 27s 3ms/sample - loss: 15005.7026 - acc: 0.8717 - f1: 0.8697\n",
            "Epoch 5/5\n",
            "10752/10752 [==============================] - 27s 3ms/sample - loss: 14973.3073 - acc: 0.8730 - f1: 0.8692\n",
            "slice no:84\n",
            "Train on 10752 samples\n",
            "Epoch 1/5\n",
            "10752/10752 [==============================] - 27s 3ms/sample - loss: 14747.0028 - acc: 0.8691 - f1: 0.8659\n",
            "Epoch 2/5\n",
            "10752/10752 [==============================] - 27s 3ms/sample - loss: 14704.7664 - acc: 0.8688 - f1: 0.8672\n",
            "Epoch 3/5\n",
            "10752/10752 [==============================] - 27s 3ms/sample - loss: 14667.1231 - acc: 0.8688 - f1: 0.8665\n",
            "Epoch 4/5\n",
            "10752/10752 [==============================] - 27s 3ms/sample - loss: 14632.2005 - acc: 0.8690 - f1: 0.8675\n",
            "Epoch 5/5\n",
            "10752/10752 [==============================] - 27s 3ms/sample - loss: 14598.5440 - acc: 0.8702 - f1: 0.8677\n",
            "slice no:85\n",
            "Train on 10752 samples\n",
            "Epoch 1/5\n",
            "10752/10752 [==============================] - 27s 3ms/sample - loss: 14519.7990 - acc: 0.8654 - f1: 0.8620\n",
            "Epoch 2/5\n",
            "10752/10752 [==============================] - 27s 3ms/sample - loss: 14477.4630 - acc: 0.8653 - f1: 0.8624\n",
            "Epoch 3/5\n",
            "10752/10752 [==============================] - 27s 3ms/sample - loss: 14438.7801 - acc: 0.8661 - f1: 0.8630\n",
            "Epoch 4/5\n",
            "10752/10752 [==============================] - 27s 3ms/sample - loss: 14403.1397 - acc: 0.8652 - f1: 0.8624\n",
            "Epoch 5/5\n",
            "10752/10752 [==============================] - 27s 3ms/sample - loss: 14369.9873 - acc: 0.8668 - f1: 0.8633\n",
            "slice no:86\n",
            "Train on 10752 samples\n",
            "Epoch 1/5\n",
            "10752/10752 [==============================] - 27s 3ms/sample - loss: 14575.3616 - acc: 0.8645 - f1: 0.8613\n",
            "Epoch 2/5\n",
            "10752/10752 [==============================] - 27s 3ms/sample - loss: 14531.0478 - acc: 0.8624 - f1: 0.8615\n",
            "Epoch 3/5\n",
            "10752/10752 [==============================] - 27s 3ms/sample - loss: 14491.9544 - acc: 0.8638 - f1: 0.8617\n",
            "Epoch 4/5\n",
            "10752/10752 [==============================] - 27s 3ms/sample - loss: 14455.6550 - acc: 0.8640 - f1: 0.8605\n",
            "Epoch 5/5\n",
            "10752/10752 [==============================] - 27s 3ms/sample - loss: 14421.5016 - acc: 0.8651 - f1: 0.8625\n",
            "slice no:87\n",
            "Train on 10752 samples\n",
            "Epoch 1/5\n",
            "10752/10752 [==============================] - 27s 3ms/sample - loss: 14510.8465 - acc: 0.8602 - f1: 0.8577\n",
            "Epoch 2/5\n",
            "10752/10752 [==============================] - 27s 3ms/sample - loss: 14467.9682 - acc: 0.8623 - f1: 0.8591\n",
            "Epoch 3/5\n",
            "10752/10752 [==============================] - 27s 3ms/sample - loss: 14429.1567 - acc: 0.8613 - f1: 0.8585\n",
            "Epoch 4/5\n",
            "10752/10752 [==============================] - 27s 3ms/sample - loss: 14392.6005 - acc: 0.8607 - f1: 0.8573\n",
            "Epoch 5/5\n",
            "10752/10752 [==============================] - 27s 3ms/sample - loss: 14358.2320 - acc: 0.8612 - f1: 0.8596\n",
            "slice no:88\n",
            "Train on 10752 samples\n",
            "Epoch 1/5\n",
            "10752/10752 [==============================] - 27s 3ms/sample - loss: 14827.3380 - acc: 0.8566 - f1: 0.8538\n",
            "Epoch 2/5\n",
            "10752/10752 [==============================] - 27s 3ms/sample - loss: 14785.6204 - acc: 0.8573 - f1: 0.8558\n",
            "Epoch 3/5\n",
            "10752/10752 [==============================] - 27s 3ms/sample - loss: 14747.9765 - acc: 0.8588 - f1: 0.8565\n",
            "Epoch 4/5\n",
            "10752/10752 [==============================] - 27s 3ms/sample - loss: 14712.7543 - acc: 0.8579 - f1: 0.8548\n",
            "Epoch 5/5\n",
            "10752/10752 [==============================] - 27s 3ms/sample - loss: 14679.4529 - acc: 0.8591 - f1: 0.8573\n",
            "slice no:89\n",
            "Train on 10752 samples\n",
            "Epoch 1/5\n",
            "10752/10752 [==============================] - 27s 3ms/sample - loss: 14031.0941 - acc: 0.8560 - f1: 0.8528\n",
            "Epoch 2/5\n",
            "10752/10752 [==============================] - 27s 3ms/sample - loss: 13992.1510 - acc: 0.8561 - f1: 0.8546\n",
            "Epoch 3/5\n",
            "10752/10752 [==============================] - 27s 3ms/sample - loss: 13957.6299 - acc: 0.8570 - f1: 0.8550\n",
            "Epoch 4/5\n",
            "10752/10752 [==============================] - 27s 3ms/sample - loss: 13925.9729 - acc: 0.8563 - f1: 0.8539\n",
            "Epoch 5/5\n",
            "10752/10752 [==============================] - 27s 3ms/sample - loss: 13895.4388 - acc: 0.8578 - f1: 0.8559\n",
            "slice no:90\n",
            "Train on 10752 samples\n",
            "Epoch 1/5\n",
            "10752/10752 [==============================] - 27s 3ms/sample - loss: 13871.7910 - acc: 0.8566 - f1: 0.8552\n",
            "Epoch 2/5\n",
            "10752/10752 [==============================] - 27s 3ms/sample - loss: 13836.3083 - acc: 0.8570 - f1: 0.8562\n",
            "Epoch 3/5\n",
            "10752/10752 [==============================] - 27s 3ms/sample - loss: 13804.7069 - acc: 0.8570 - f1: 0.8568\n",
            "Epoch 4/5\n",
            "10752/10752 [==============================] - 27s 3ms/sample - loss: 13774.1964 - acc: 0.8555 - f1: 0.8551\n",
            "Epoch 5/5\n",
            "10752/10752 [==============================] - 27s 3ms/sample - loss: 13745.1822 - acc: 0.8568 - f1: 0.8562\n",
            "slice no:91\n",
            "Train on 10752 samples\n",
            "Epoch 1/5\n",
            "10752/10752 [==============================] - 27s 3ms/sample - loss: 13773.5479 - acc: 0.8569 - f1: 0.8561\n",
            "Epoch 2/5\n",
            "10752/10752 [==============================] - 27s 3ms/sample - loss: 13739.0551 - acc: 0.8575 - f1: 0.8562\n",
            "Epoch 3/5\n",
            "10752/10752 [==============================] - 27s 3ms/sample - loss: 13708.4396 - acc: 0.8575 - f1: 0.8567\n",
            "Epoch 4/5\n",
            "10752/10752 [==============================] - 27s 3ms/sample - loss: 13679.6993 - acc: 0.8577 - f1: 0.8569\n",
            "Epoch 5/5\n",
            "10752/10752 [==============================] - 27s 3ms/sample - loss: 13652.7300 - acc: 0.8565 - f1: 0.8561\n",
            "slice no:92\n",
            "Train on 10752 samples\n",
            "Epoch 1/5\n",
            "10752/10752 [==============================] - 27s 3ms/sample - loss: 13822.2767 - acc: 0.8557 - f1: 0.8537\n",
            "Epoch 2/5\n",
            "10752/10752 [==============================] - 27s 3ms/sample - loss: 13789.0191 - acc: 0.8550 - f1: 0.8539\n",
            "Epoch 3/5\n",
            "10752/10752 [==============================] - 27s 3ms/sample - loss: 13759.7271 - acc: 0.8556 - f1: 0.8546\n",
            "Epoch 4/5\n",
            "10752/10752 [==============================] - 27s 3ms/sample - loss: 13732.4034 - acc: 0.8568 - f1: 0.8549\n",
            "Epoch 5/5\n",
            "10752/10752 [==============================] - 27s 3ms/sample - loss: 13706.1649 - acc: 0.8550 - f1: 0.8536\n",
            "slice no:93\n",
            "Train on 10752 samples\n",
            "Epoch 1/5\n",
            "10752/10752 [==============================] - 27s 3ms/sample - loss: 13417.7389 - acc: 0.8572 - f1: 0.8554\n",
            "Epoch 2/5\n",
            "10752/10752 [==============================] - 27s 3ms/sample - loss: 13386.8086 - acc: 0.8590 - f1: 0.8565\n",
            "Epoch 3/5\n",
            "10752/10752 [==============================] - 27s 3ms/sample - loss: 13359.0851 - acc: 0.8566 - f1: 0.8548\n",
            "Epoch 4/5\n",
            "10752/10752 [==============================] - 27s 3ms/sample - loss: 13333.9187 - acc: 0.8573 - f1: 0.8547\n",
            "Epoch 5/5\n",
            "10752/10752 [==============================] - 27s 3ms/sample - loss: 13310.0096 - acc: 0.8571 - f1: 0.8557\n",
            "slice no:94\n",
            "Train on 10752 samples\n",
            "Epoch 1/5\n",
            "10752/10752 [==============================] - 27s 3ms/sample - loss: 13505.0111 - acc: 0.8577 - f1: 0.8554\n",
            "Epoch 2/5\n",
            "10752/10752 [==============================] - 27s 3ms/sample - loss: 13474.0963 - acc: 0.8570 - f1: 0.8538\n",
            "Epoch 3/5\n",
            "10752/10752 [==============================] - 27s 3ms/sample - loss: 13446.6998 - acc: 0.8600 - f1: 0.8547\n",
            "Epoch 4/5\n",
            "10752/10752 [==============================] - 27s 3ms/sample - loss: 13420.9288 - acc: 0.8585 - f1: 0.8560\n",
            "Epoch 5/5\n",
            "10752/10752 [==============================] - 27s 3ms/sample - loss: 13396.4502 - acc: 0.8585 - f1: 0.8543\n",
            "slice no:95\n",
            "Train on 10752 samples\n",
            "Epoch 1/5\n",
            "10752/10752 [==============================] - 27s 3ms/sample - loss: 13075.0893 - acc: 0.8597 - f1: 0.8541\n",
            "Epoch 2/5\n",
            "10752/10752 [==============================] - 27s 3ms/sample - loss: 13045.9098 - acc: 0.8606 - f1: 0.8560\n",
            "Epoch 3/5\n",
            "10752/10752 [==============================] - 27s 3ms/sample - loss: 13019.9463 - acc: 0.8609 - f1: 0.8566\n",
            "Epoch 4/5\n",
            "10752/10752 [==============================] - 27s 3ms/sample - loss: 12995.3493 - acc: 0.8606 - f1: 0.8561\n",
            "Epoch 5/5\n",
            "10752/10752 [==============================] - 27s 3ms/sample - loss: 12971.9033 - acc: 0.8608 - f1: 0.8547\n",
            "slice no:96\n",
            "Train on 10752 samples\n",
            "Epoch 1/5\n",
            "10752/10752 [==============================] - 27s 3ms/sample - loss: 13118.9710 - acc: 0.8576 - f1: 0.8524\n",
            "Epoch 2/5\n",
            "10752/10752 [==============================] - 27s 3ms/sample - loss: 13088.8291 - acc: 0.8570 - f1: 0.8518\n",
            "Epoch 3/5\n",
            "10752/10752 [==============================] - 27s 3ms/sample - loss: 13062.1707 - acc: 0.8593 - f1: 0.8549\n",
            "Epoch 4/5\n",
            "10752/10752 [==============================] - 27s 3ms/sample - loss: 13037.5562 - acc: 0.8586 - f1: 0.8530\n",
            "Epoch 5/5\n",
            "10752/10752 [==============================] - 27s 3ms/sample - loss: 13014.0590 - acc: 0.8581 - f1: 0.8528\n",
            "slice no:97\n",
            "Train on 10752 samples\n",
            "Epoch 1/5\n",
            "10752/10752 [==============================] - 27s 3ms/sample - loss: 12899.5613 - acc: 0.8602 - f1: 0.8559\n",
            "Epoch 2/5\n",
            "10752/10752 [==============================] - 27s 3ms/sample - loss: 12869.5960 - acc: 0.8607 - f1: 0.8549\n",
            "Epoch 3/5\n",
            "10752/10752 [==============================] - 27s 3ms/sample - loss: 12844.0691 - acc: 0.8587 - f1: 0.8549\n",
            "Epoch 4/5\n",
            "10752/10752 [==============================] - 27s 3ms/sample - loss: 12820.1854 - acc: 0.8597 - f1: 0.8547\n",
            "Epoch 5/5\n",
            "10752/10752 [==============================] - 27s 3ms/sample - loss: 12797.6014 - acc: 0.8598 - f1: 0.8541\n",
            "slice no:98\n",
            "Train on 10752 samples\n",
            "Epoch 1/5\n",
            "10752/10752 [==============================] - 27s 3ms/sample - loss: 12577.0697 - acc: 0.8611 - f1: 0.8550\n",
            "Epoch 2/5\n",
            "10752/10752 [==============================] - 27s 3ms/sample - loss: 12547.4383 - acc: 0.8616 - f1: 0.8577\n",
            "Epoch 3/5\n",
            "10752/10752 [==============================] - 27s 3ms/sample - loss: 12521.5877 - acc: 0.8604 - f1: 0.8558\n",
            "Epoch 4/5\n",
            "10752/10752 [==============================] - 27s 3ms/sample - loss: 12497.5414 - acc: 0.8605 - f1: 0.8558\n",
            "Epoch 5/5\n",
            "10752/10752 [==============================] - 27s 3ms/sample - loss: 12474.6829 - acc: 0.8601 - f1: 0.8566\n",
            "slice no:99\n",
            "Train on 10752 samples\n",
            "Epoch 1/5\n",
            "10752/10752 [==============================] - 27s 3ms/sample - loss: 12325.7929 - acc: 0.8604 - f1: 0.8566\n",
            "Epoch 2/5\n",
            "10752/10752 [==============================] - 27s 3ms/sample - loss: 12298.9333 - acc: 0.8603 - f1: 0.8567\n",
            "Epoch 3/5\n",
            "10752/10752 [==============================] - 27s 3ms/sample - loss: 12275.4004 - acc: 0.8612 - f1: 0.8575\n",
            "Epoch 4/5\n",
            "10752/10752 [==============================] - 27s 3ms/sample - loss: 12253.3561 - acc: 0.8607 - f1: 0.8582\n",
            "Epoch 5/5\n",
            "10752/10752 [==============================] - 27s 3ms/sample - loss: 12232.7469 - acc: 0.8618 - f1: 0.8567\n",
            "slice no:100\n",
            "Train on 10752 samples\n",
            "Epoch 1/5\n",
            "10752/10752 [==============================] - 27s 3ms/sample - loss: 12710.2854 - acc: 0.8602 - f1: 0.8565\n",
            "Epoch 2/5\n",
            "10752/10752 [==============================] - 27s 3ms/sample - loss: 12681.2237 - acc: 0.8586 - f1: 0.8547\n",
            "Epoch 3/5\n",
            "10752/10752 [==============================] - 27s 3ms/sample - loss: 12655.1744 - acc: 0.8616 - f1: 0.8579\n",
            "Epoch 4/5\n",
            "10752/10752 [==============================] - 27s 3ms/sample - loss: 12631.6497 - acc: 0.8598 - f1: 0.8569\n",
            "Epoch 5/5\n",
            "10752/10752 [==============================] - 27s 3ms/sample - loss: 12609.3157 - acc: 0.8624 - f1: 0.8577\n",
            "slice no:101\n",
            "Train on 10752 samples\n",
            "Epoch 1/5\n",
            "10752/10752 [==============================] - 27s 3ms/sample - loss: 12356.3444 - acc: 0.8611 - f1: 0.8574\n",
            "Epoch 2/5\n",
            "10752/10752 [==============================] - 27s 3ms/sample - loss: 12328.7644 - acc: 0.8623 - f1: 0.8569\n",
            "Epoch 3/5\n",
            "10752/10752 [==============================] - 27s 3ms/sample - loss: 12304.6888 - acc: 0.8624 - f1: 0.8587\n",
            "Epoch 4/5\n",
            "10752/10752 [==============================] - 27s 3ms/sample - loss: 12282.5086 - acc: 0.8617 - f1: 0.8571\n",
            "Epoch 5/5\n",
            "10752/10752 [==============================] - 27s 3ms/sample - loss: 12261.5601 - acc: 0.8640 - f1: 0.8596\n",
            "slice no:102\n",
            "Train on 10752 samples\n",
            "Epoch 1/5\n",
            "10752/10752 [==============================] - 27s 3ms/sample - loss: 11891.9253 - acc: 0.8666 - f1: 0.8632\n",
            "Epoch 2/5\n",
            "10752/10752 [==============================] - 27s 3ms/sample - loss: 11866.3159 - acc: 0.8677 - f1: 0.8629\n",
            "Epoch 3/5\n",
            "10752/10752 [==============================] - 27s 3ms/sample - loss: 11844.4837 - acc: 0.8672 - f1: 0.8637\n",
            "Epoch 4/5\n",
            "10752/10752 [==============================] - 27s 3ms/sample - loss: 11824.4120 - acc: 0.8668 - f1: 0.8629\n",
            "Epoch 5/5\n",
            "10752/10752 [==============================] - 27s 3ms/sample - loss: 11805.4023 - acc: 0.8682 - f1: 0.8642\n",
            "slice no:103\n",
            "Train on 10752 samples\n",
            "Epoch 1/5\n",
            "10752/10752 [==============================] - 27s 3ms/sample - loss: 11088.0805 - acc: 0.8711 - f1: 0.8672\n",
            "Epoch 2/5\n",
            "10752/10752 [==============================] - 27s 3ms/sample - loss: 11063.4215 - acc: 0.8697 - f1: 0.8659\n",
            "Epoch 3/5\n",
            "10752/10752 [==============================] - 27s 3ms/sample - loss: 11042.5095 - acc: 0.8705 - f1: 0.8671\n",
            "Epoch 4/5\n",
            "10752/10752 [==============================] - 27s 3ms/sample - loss: 11023.5098 - acc: 0.8702 - f1: 0.8668\n",
            "Epoch 5/5\n",
            "10752/10752 [==============================] - 27s 3ms/sample - loss: 11005.9303 - acc: 0.8700 - f1: 0.8681\n",
            "slice no:104\n",
            "Train on 10752 samples\n",
            "Epoch 1/5\n",
            "10752/10752 [==============================] - 27s 3ms/sample - loss: 10880.6264 - acc: 0.8724 - f1: 0.8688\n",
            "Epoch 2/5\n",
            "10752/10752 [==============================] - 27s 3ms/sample - loss: 10856.4668 - acc: 0.8720 - f1: 0.8674\n",
            "Epoch 3/5\n",
            "10752/10752 [==============================] - 27s 3ms/sample - loss: 10835.6902 - acc: 0.8719 - f1: 0.8673\n",
            "Epoch 4/5\n",
            "10752/10752 [==============================] - 27s 3ms/sample - loss: 10816.7353 - acc: 0.8730 - f1: 0.8677\n",
            "Epoch 5/5\n",
            "10752/10752 [==============================] - 27s 3ms/sample - loss: 10798.9894 - acc: 0.8725 - f1: 0.8676\n",
            "slice no:105\n",
            "Train on 10752 samples\n",
            "Epoch 1/5\n",
            "10752/10752 [==============================] - 27s 3ms/sample - loss: 10831.2722 - acc: 0.8749 - f1: 0.8697\n",
            "Epoch 2/5\n",
            "10752/10752 [==============================] - 27s 3ms/sample - loss: 10809.1736 - acc: 0.8743 - f1: 0.8703\n",
            "Epoch 3/5\n",
            "10752/10752 [==============================] - 27s 3ms/sample - loss: 10789.5866 - acc: 0.8748 - f1: 0.8708\n",
            "Epoch 4/5\n",
            "10752/10752 [==============================] - 27s 3ms/sample - loss: 10771.4249 - acc: 0.8745 - f1: 0.8705\n",
            "Epoch 5/5\n",
            "10752/10752 [==============================] - 27s 3ms/sample - loss: 10754.8495 - acc: 0.8755 - f1: 0.8714\n",
            "slice no:106\n",
            "Train on 10752 samples\n",
            "Epoch 1/5\n",
            "10752/10752 [==============================] - 27s 3ms/sample - loss: 10907.7761 - acc: 0.8770 - f1: 0.8730\n",
            "Epoch 2/5\n",
            "10752/10752 [==============================] - 27s 3ms/sample - loss: 10886.1745 - acc: 0.8777 - f1: 0.8744\n",
            "Epoch 3/5\n",
            "10752/10752 [==============================] - 27s 3ms/sample - loss: 10866.9298 - acc: 0.8767 - f1: 0.8727\n",
            "Epoch 4/5\n",
            "10752/10752 [==============================] - 27s 3ms/sample - loss: 10848.6044 - acc: 0.8770 - f1: 0.8733\n",
            "Epoch 5/5\n",
            "10752/10752 [==============================] - 27s 3ms/sample - loss: 10831.4520 - acc: 0.8770 - f1: 0.8734\n",
            "slice no:107\n",
            "Train on 10752 samples\n",
            "Epoch 1/5\n",
            "10752/10752 [==============================] - 27s 3ms/sample - loss: 10650.5563 - acc: 0.8797 - f1: 0.8759\n",
            "Epoch 2/5\n",
            "10752/10752 [==============================] - 27s 3ms/sample - loss: 10629.2119 - acc: 0.8784 - f1: 0.8749\n",
            "Epoch 3/5\n",
            "10752/10752 [==============================] - 27s 3ms/sample - loss: 10609.8780 - acc: 0.8779 - f1: 0.8746\n",
            "Epoch 4/5\n",
            "10752/10752 [==============================] - 27s 3ms/sample - loss: 10592.6683 - acc: 0.8785 - f1: 0.8750\n",
            "Epoch 5/5\n",
            "10752/10752 [==============================] - 27s 3ms/sample - loss: 10576.0278 - acc: 0.8791 - f1: 0.8751\n",
            "slice no:108\n",
            "Train on 10752 samples\n",
            "Epoch 1/5\n",
            " 9344/10752 [=========================>....] - ETA: 3s - loss: 10393.4303 - acc: 0.8824 - f1: 0.8791"
          ],
          "name": "stdout"
        }
      ]
    },
    {
      "cell_type": "code",
      "metadata": {
        "id": "FTvOBHDzMZ8X",
        "colab_type": "code",
        "colab": {
          "base_uri": "https://localhost:8080/",
          "height": 88
        },
        "outputId": "fc6f3ca3-2dac-46ee-b15f-79ce281fca3c"
      },
      "source": [
        "model = tf.keras.models.load_model('trial_InputCascade_acc.h5', custom_objects={'f1': f1})\n"
      ],
      "execution_count": 26,
      "outputs": [
        {
          "output_type": "stream",
          "text": [
            "WARNING:tensorflow:From /usr/local/lib/python3.6/dist-packages/tensorflow_core/python/ops/math_grad.py:1424: where (from tensorflow.python.ops.array_ops) is deprecated and will be removed in a future version.\n",
            "Instructions for updating:\n",
            "Use tf.where in 2.0, which has the same broadcast rule as np.where\n"
          ],
          "name": "stdout"
        }
      ]
    },
    {
      "cell_type": "code",
      "metadata": {
        "id": "Jjy-lZVMM3kJ",
        "colab_type": "code",
        "outputId": "e6ad92ec-798b-4820-f16f-c3d942da7d68",
        "colab": {
          "base_uri": "https://localhost:8080/",
          "height": 34
        }
      },
      "source": [
        "path = '/content/drive/My Drive/BRATS-2/Image_Data/HG/0003'\n",
        "p = os.listdir(path)\n",
        "p.sort(key=str.lower)\n",
        "arr = []\n",
        "for i in range(len(p)):\n",
        "  if(i != 4):\n",
        "    p1 = os.listdir(path+'/'+p[i])\n",
        "    p1.sort()\n",
        "    img = sitk.ReadImage(path+'/'+p[i]+'/'+p1[-1])\n",
        "    arr.append(sitk.GetArrayFromImage(img))\n",
        "  else:\n",
        "    p1 = os.listdir(path+'/'+p[i])\n",
        "    img = sitk.ReadImage(path+'/'+p[i]+'/'+p1[0])\n",
        "    Y_labels = sitk.GetArrayFromImage(img)    \n",
        "data = np.zeros((Y_labels.shape[1],Y_labels.shape[0],Y_labels.shape[2],4))\n",
        "for i in range(Y_labels.shape[1]):\n",
        "  data[i,:,:,0] = arr[0][:,i,:]\n",
        "  data[i,:,:,1] = arr[1][:,i,:]\n",
        "  data[i,:,:,2] = arr[2][:,i,:]\n",
        "  data[i,:,:,3] = arr[3][:,i,:]\n",
        "info = []\n",
        " \n",
        "    \n",
        "d = data_gen(data,Y_labels,113,1)\n",
        "if(len(d) != 0):\n",
        "  y = np.zeros((d[2].shape[0],1,1,5))\n",
        "  for j in range(y.shape[0]):\n",
        "    y[j,:,:,d[2][j]] = 1\n",
        "  X1 = d[0]\n",
        "  X2 = d[1]\n",
        "  pred = model.predict([X1,X2],batch_size = 256) \n",
        "  pred = np.around(pred)\n",
        "  #print(pred.shape)\n",
        "  pred1 = np.argmax(pred.reshape(y.shape[0],5)[:,1:4],axis = 1)\n",
        "  y2 = np.argmax(y.reshape(y.shape[0],5)[:,1:4],axis = 1)\n",
        "  f1 = metrics.f1_score(y2,pred1,average='micro')\n",
        "  print(f1)"
      ],
      "execution_count": 42,
      "outputs": [
        {
          "output_type": "stream",
          "text": [
            "0.9231505102040817\n"
          ],
          "name": "stdout"
        }
      ]
    },
    {
      "cell_type": "code",
      "metadata": {
        "id": "aUJPW_s-Rbli",
        "colab_type": "code",
        "colab": {}
      },
      "source": [
        ""
      ],
      "execution_count": 0,
      "outputs": []
    },
    {
      "cell_type": "code",
      "metadata": {
        "id": "hHuy6Eo-iCO8",
        "colab_type": "code",
        "colab": {}
      },
      "source": [
        "\n",
        "# m0.compile(optimizer='sgd',loss='categorical_hinge',metrics=[f1_score])\n",
        "# m0.save('trial_0001_twopathcnn_f1.h5')\n"
      ],
      "execution_count": 0,
      "outputs": []
    },
    {
      "cell_type": "code",
      "metadata": {
        "id": "6li6W7egTQEp",
        "colab_type": "code",
        "colab": {}
      },
      "source": [
        ""
      ],
      "execution_count": 0,
      "outputs": []
    },
    {
      "cell_type": "code",
      "metadata": {
        "id": "lKt8BL36TQtk",
        "colab_type": "code",
        "colab": {}
      },
      "source": [
        ""
      ],
      "execution_count": 0,
      "outputs": []
    },
    {
      "cell_type": "code",
      "metadata": {
        "id": "z8U0nPsKSm7K",
        "colab_type": "code",
        "colab": {}
      },
      "source": [
        ""
      ],
      "execution_count": 0,
      "outputs": []
    },
    {
      "cell_type": "code",
      "metadata": {
        "id": "EMRT_nNUF6nb",
        "colab_type": "code",
        "colab": {}
      },
      "source": [
        ""
      ],
      "execution_count": 0,
      "outputs": []
    },
    {
      "cell_type": "code",
      "metadata": {
        "id": "xfY_gPYavnE7",
        "colab_type": "code",
        "colab": {}
      },
      "source": [
        ""
      ],
      "execution_count": 0,
      "outputs": []
    },
    {
      "cell_type": "code",
      "metadata": {
        "id": "Ec4vdoZOS4_X",
        "colab_type": "code",
        "colab": {}
      },
      "source": [
        ""
      ],
      "execution_count": 0,
      "outputs": []
    },
    {
      "cell_type": "code",
      "metadata": {
        "id": "AaGVclYpTRx_",
        "colab_type": "code",
        "colab": {}
      },
      "source": [
        ""
      ],
      "execution_count": 0,
      "outputs": []
    },
    {
      "cell_type": "code",
      "metadata": {
        "id": "Mkbp6sv-Wzqp",
        "colab_type": "code",
        "colab": {}
      },
      "source": [
        ""
      ],
      "execution_count": 0,
      "outputs": []
    },
    {
      "cell_type": "code",
      "metadata": {
        "id": "QAbxx1isoA2E",
        "colab_type": "code",
        "colab": {}
      },
      "source": [
        ""
      ],
      "execution_count": 0,
      "outputs": []
    }
  ]
}